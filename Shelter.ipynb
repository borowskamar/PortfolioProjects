{
 "cells": [
  {
   "cell_type": "markdown",
   "id": "c5236f33-a20e-4120-951a-780d6baa4c31",
   "metadata": {},
   "source": [
    "### Importing libraries"
   ]
  },
  {
   "cell_type": "code",
   "execution_count": 1,
   "id": "095a0146-337e-4229-bf70-f68e0b57748e",
   "metadata": {},
   "outputs": [],
   "source": [
    "import pandas as pd \n",
    "import matplotlib.pyplot as plt\n",
    "import seaborn as sns\n",
    "import numpy as np\n",
    "import statsmodels.api as sm\n",
    "from scipy.stats import zscore\n",
    "from scipy.stats import ttest_ind"
   ]
  },
  {
   "cell_type": "markdown",
   "id": "c8ba240a-18d9-45ed-a19f-fcfc8dbc9332",
   "metadata": {},
   "source": [
    "### Importing data and basic exploration"
   ]
  },
  {
   "cell_type": "code",
   "execution_count": 3,
   "id": "57811fed-3a4d-41fa-bcd0-3306eec70d26",
   "metadata": {},
   "outputs": [],
   "source": [
    "df = pd.read_csv('adoptions.csv', sep=';')"
   ]
  },
  {
   "cell_type": "code",
   "execution_count": 4,
   "id": "cd8eedc8-08ba-4d70-ad50-49971579cac0",
   "metadata": {},
   "outputs": [
    {
     "data": {
      "text/plain": [
       "(718, 11)"
      ]
     },
     "execution_count": 4,
     "metadata": {},
     "output_type": "execute_result"
    }
   ],
   "source": [
    "# Checking the number of rows and columns\n",
    "df.shape"
   ]
  },
  {
   "cell_type": "code",
   "execution_count": 5,
   "id": "7c0d59f6-f08d-4774-a2f0-83f4a2ddbf5b",
   "metadata": {},
   "outputs": [
    {
     "data": {
      "text/html": [
       "<div>\n",
       "<style scoped>\n",
       "    .dataframe tbody tr th:only-of-type {\n",
       "        vertical-align: middle;\n",
       "    }\n",
       "\n",
       "    .dataframe tbody tr th {\n",
       "        vertical-align: top;\n",
       "    }\n",
       "\n",
       "    .dataframe thead th {\n",
       "        text-align: right;\n",
       "    }\n",
       "</style>\n",
       "<table border=\"1\" class=\"dataframe\">\n",
       "  <thead>\n",
       "    <tr style=\"text-align: right;\">\n",
       "      <th></th>\n",
       "      <th>Name</th>\n",
       "      <th>Reference Number</th>\n",
       "      <th>Arrival Date</th>\n",
       "      <th>Age when adopted</th>\n",
       "      <th>Weight in kg</th>\n",
       "      <th>Adoption Date</th>\n",
       "      <th>Returned</th>\n",
       "      <th>Date of return</th>\n",
       "      <th>Breed</th>\n",
       "      <th>Gender</th>\n",
       "      <th>Black fur</th>\n",
       "    </tr>\n",
       "  </thead>\n",
       "  <tbody>\n",
       "    <tr>\n",
       "      <th>0</th>\n",
       "      <td>Bruno</td>\n",
       "      <td>60/24</td>\n",
       "      <td>13.01.2024</td>\n",
       "      <td>4</td>\n",
       "      <td>27,5</td>\n",
       "      <td>30.04.2025</td>\n",
       "      <td>FALSE</td>\n",
       "      <td>NaN</td>\n",
       "      <td>mix-breed</td>\n",
       "      <td>male</td>\n",
       "      <td>False</td>\n",
       "    </tr>\n",
       "    <tr>\n",
       "      <th>1</th>\n",
       "      <td>Tofino</td>\n",
       "      <td>272/25</td>\n",
       "      <td>24.03.2025</td>\n",
       "      <td>10 msc</td>\n",
       "      <td>15</td>\n",
       "      <td>29.04.2025</td>\n",
       "      <td>FALSE</td>\n",
       "      <td>NaN</td>\n",
       "      <td>mix-breed</td>\n",
       "      <td>male</td>\n",
       "      <td>True</td>\n",
       "    </tr>\n",
       "    <tr>\n",
       "      <th>2</th>\n",
       "      <td>Asai</td>\n",
       "      <td>166/25</td>\n",
       "      <td>22.02.2025</td>\n",
       "      <td>1</td>\n",
       "      <td>10</td>\n",
       "      <td>15.04.2025</td>\n",
       "      <td>FALSE</td>\n",
       "      <td>NaN</td>\n",
       "      <td>mix-breed</td>\n",
       "      <td>male</td>\n",
       "      <td>True</td>\n",
       "    </tr>\n",
       "    <tr>\n",
       "      <th>3</th>\n",
       "      <td>Vega</td>\n",
       "      <td>1767/23</td>\n",
       "      <td>08.12.2023</td>\n",
       "      <td>4</td>\n",
       "      <td>39</td>\n",
       "      <td>14.04.2025</td>\n",
       "      <td>FALSE</td>\n",
       "      <td>NaN</td>\n",
       "      <td>German Shepherd</td>\n",
       "      <td>female</td>\n",
       "      <td>False</td>\n",
       "    </tr>\n",
       "    <tr>\n",
       "      <th>4</th>\n",
       "      <td>Zarina</td>\n",
       "      <td>1132/24</td>\n",
       "      <td>05.08.2024</td>\n",
       "      <td>8</td>\n",
       "      <td>36</td>\n",
       "      <td>07.04.2025</td>\n",
       "      <td>FALSE</td>\n",
       "      <td>NaN</td>\n",
       "      <td>mix-breed</td>\n",
       "      <td>female</td>\n",
       "      <td>False</td>\n",
       "    </tr>\n",
       "    <tr>\n",
       "      <th>5</th>\n",
       "      <td>Simba</td>\n",
       "      <td>579/24</td>\n",
       "      <td>17.04.2024</td>\n",
       "      <td>7</td>\n",
       "      <td>23</td>\n",
       "      <td>30.03.2025</td>\n",
       "      <td>FALSE</td>\n",
       "      <td>NaN</td>\n",
       "      <td>mix-breed</td>\n",
       "      <td>male</td>\n",
       "      <td>True</td>\n",
       "    </tr>\n",
       "    <tr>\n",
       "      <th>6</th>\n",
       "      <td>Gucci</td>\n",
       "      <td>106/25</td>\n",
       "      <td>04.02.2025</td>\n",
       "      <td>3</td>\n",
       "      <td>15</td>\n",
       "      <td>14.03.2025</td>\n",
       "      <td>FALSE</td>\n",
       "      <td>NaN</td>\n",
       "      <td>mix-breed</td>\n",
       "      <td>male</td>\n",
       "      <td>False</td>\n",
       "    </tr>\n",
       "    <tr>\n",
       "      <th>7</th>\n",
       "      <td>Berlin</td>\n",
       "      <td>1676/24</td>\n",
       "      <td>04.12.2024</td>\n",
       "      <td>2</td>\n",
       "      <td>12</td>\n",
       "      <td>26.02.2025</td>\n",
       "      <td>FALSE</td>\n",
       "      <td>NaN</td>\n",
       "      <td>mix-breed</td>\n",
       "      <td>male</td>\n",
       "      <td>False</td>\n",
       "    </tr>\n",
       "    <tr>\n",
       "      <th>8</th>\n",
       "      <td>Czaruś</td>\n",
       "      <td>1677/24</td>\n",
       "      <td>04.12.2024</td>\n",
       "      <td>1</td>\n",
       "      <td>11</td>\n",
       "      <td>25.02.2025</td>\n",
       "      <td>FALSE</td>\n",
       "      <td>NaN</td>\n",
       "      <td>mix-breed</td>\n",
       "      <td>male</td>\n",
       "      <td>True</td>\n",
       "    </tr>\n",
       "    <tr>\n",
       "      <th>9</th>\n",
       "      <td>Ulfi</td>\n",
       "      <td>1518/24</td>\n",
       "      <td>28.10.2024</td>\n",
       "      <td>3</td>\n",
       "      <td>19</td>\n",
       "      <td>15.02.2025</td>\n",
       "      <td>FALSE</td>\n",
       "      <td>NaN</td>\n",
       "      <td>mix-breed</td>\n",
       "      <td>male</td>\n",
       "      <td>False</td>\n",
       "    </tr>\n",
       "    <tr>\n",
       "      <th>10</th>\n",
       "      <td>Tarzan</td>\n",
       "      <td>1284/23</td>\n",
       "      <td>03.09.2023</td>\n",
       "      <td>9</td>\n",
       "      <td>27</td>\n",
       "      <td>08.02.2025</td>\n",
       "      <td>FALSE</td>\n",
       "      <td>NaN</td>\n",
       "      <td>mix-breed</td>\n",
       "      <td>male</td>\n",
       "      <td>True</td>\n",
       "    </tr>\n",
       "    <tr>\n",
       "      <th>11</th>\n",
       "      <td>Mimir</td>\n",
       "      <td>425/24</td>\n",
       "      <td>19.03.2024</td>\n",
       "      <td>9</td>\n",
       "      <td>52</td>\n",
       "      <td>01.02.2025</td>\n",
       "      <td>FALSE</td>\n",
       "      <td>NaN</td>\n",
       "      <td>Moscow Watchdog</td>\n",
       "      <td>male</td>\n",
       "      <td>False</td>\n",
       "    </tr>\n",
       "    <tr>\n",
       "      <th>12</th>\n",
       "      <td>Serek</td>\n",
       "      <td>1732/24</td>\n",
       "      <td>18.12.2024</td>\n",
       "      <td>9</td>\n",
       "      <td>8</td>\n",
       "      <td>25.01.2025</td>\n",
       "      <td>TRUE</td>\n",
       "      <td>13.04.2025</td>\n",
       "      <td>Yorkshire Terrier</td>\n",
       "      <td>male</td>\n",
       "      <td>False</td>\n",
       "    </tr>\n",
       "    <tr>\n",
       "      <th>13</th>\n",
       "      <td>Thor</td>\n",
       "      <td>1577/24</td>\n",
       "      <td>09.11.2024</td>\n",
       "      <td>2</td>\n",
       "      <td>25</td>\n",
       "      <td>17.01.2025</td>\n",
       "      <td>FALSE</td>\n",
       "      <td>NaN</td>\n",
       "      <td>Amstaff</td>\n",
       "      <td>male</td>\n",
       "      <td>True</td>\n",
       "    </tr>\n",
       "    <tr>\n",
       "      <th>14</th>\n",
       "      <td>Amigo</td>\n",
       "      <td>NaN</td>\n",
       "      <td>12.08.2024</td>\n",
       "      <td>2</td>\n",
       "      <td>5</td>\n",
       "      <td>13.12.2024</td>\n",
       "      <td>FALSE</td>\n",
       "      <td>NaN</td>\n",
       "      <td>mix-breed</td>\n",
       "      <td>male</td>\n",
       "      <td>False</td>\n",
       "    </tr>\n",
       "    <tr>\n",
       "      <th>15</th>\n",
       "      <td>Serek</td>\n",
       "      <td>1548/24</td>\n",
       "      <td>04.11.2024</td>\n",
       "      <td>9</td>\n",
       "      <td>8</td>\n",
       "      <td>07.12.2024</td>\n",
       "      <td>TRUE</td>\n",
       "      <td>18.12.2024</td>\n",
       "      <td>Yorkshire Terrier</td>\n",
       "      <td>male</td>\n",
       "      <td>False</td>\n",
       "    </tr>\n",
       "    <tr>\n",
       "      <th>16</th>\n",
       "      <td>Lorek</td>\n",
       "      <td>871/23</td>\n",
       "      <td>11.06.2023</td>\n",
       "      <td>2</td>\n",
       "      <td>22</td>\n",
       "      <td>25.11.2024</td>\n",
       "      <td>FALSE</td>\n",
       "      <td>NaN</td>\n",
       "      <td>mix-breed</td>\n",
       "      <td>male</td>\n",
       "      <td>False</td>\n",
       "    </tr>\n",
       "    <tr>\n",
       "      <th>17</th>\n",
       "      <td>Nocka</td>\n",
       "      <td>1534/24</td>\n",
       "      <td>01.11.2024</td>\n",
       "      <td>4</td>\n",
       "      <td>11</td>\n",
       "      <td>23.11.2024</td>\n",
       "      <td>FALSE</td>\n",
       "      <td>NaN</td>\n",
       "      <td>mix-breed</td>\n",
       "      <td>female</td>\n",
       "      <td>False</td>\n",
       "    </tr>\n",
       "    <tr>\n",
       "      <th>18</th>\n",
       "      <td>Vadim</td>\n",
       "      <td>78/24</td>\n",
       "      <td>15.01.2024</td>\n",
       "      <td>7</td>\n",
       "      <td>27</td>\n",
       "      <td>16.11.2024</td>\n",
       "      <td>FALSE</td>\n",
       "      <td>NaN</td>\n",
       "      <td>mix-breed</td>\n",
       "      <td>male</td>\n",
       "      <td>True</td>\n",
       "    </tr>\n",
       "    <tr>\n",
       "      <th>19</th>\n",
       "      <td>Smerfuś</td>\n",
       "      <td>1063/24</td>\n",
       "      <td>23.07.2024</td>\n",
       "      <td>8 msc</td>\n",
       "      <td>14</td>\n",
       "      <td>12.11.2024</td>\n",
       "      <td>FALSE</td>\n",
       "      <td>NaN</td>\n",
       "      <td>mix-breed</td>\n",
       "      <td>male</td>\n",
       "      <td>True</td>\n",
       "    </tr>\n",
       "    <tr>\n",
       "      <th>20</th>\n",
       "      <td>Sato</td>\n",
       "      <td>268/24</td>\n",
       "      <td>20.02.2024</td>\n",
       "      <td>1</td>\n",
       "      <td>23</td>\n",
       "      <td>12.11.2024</td>\n",
       "      <td>FALSE</td>\n",
       "      <td>NaN</td>\n",
       "      <td>mix-breed</td>\n",
       "      <td>male</td>\n",
       "      <td>True</td>\n",
       "    </tr>\n",
       "    <tr>\n",
       "      <th>21</th>\n",
       "      <td>Misza</td>\n",
       "      <td>1087/24</td>\n",
       "      <td>28.07.2024</td>\n",
       "      <td>11 msc</td>\n",
       "      <td>9</td>\n",
       "      <td>19.10.2024</td>\n",
       "      <td>FALSE</td>\n",
       "      <td>NaN</td>\n",
       "      <td>mix-breed</td>\n",
       "      <td>female</td>\n",
       "      <td>True</td>\n",
       "    </tr>\n",
       "    <tr>\n",
       "      <th>22</th>\n",
       "      <td>Goldi</td>\n",
       "      <td>1399/24</td>\n",
       "      <td>06.10.2024</td>\n",
       "      <td>8</td>\n",
       "      <td>24,5</td>\n",
       "      <td>13.10.2024</td>\n",
       "      <td>FALSE</td>\n",
       "      <td>NaN</td>\n",
       "      <td>mix-breed</td>\n",
       "      <td>male</td>\n",
       "      <td>False</td>\n",
       "    </tr>\n",
       "    <tr>\n",
       "      <th>23</th>\n",
       "      <td>Fendi</td>\n",
       "      <td>1219/24</td>\n",
       "      <td>24.08.2024</td>\n",
       "      <td>2</td>\n",
       "      <td>10</td>\n",
       "      <td>05.10.2024</td>\n",
       "      <td>FALSE</td>\n",
       "      <td>NaN</td>\n",
       "      <td>mix-breed</td>\n",
       "      <td>female</td>\n",
       "      <td>False</td>\n",
       "    </tr>\n",
       "    <tr>\n",
       "      <th>24</th>\n",
       "      <td>Diament</td>\n",
       "      <td>1220/24</td>\n",
       "      <td>24.08.2024</td>\n",
       "      <td>3</td>\n",
       "      <td>13</td>\n",
       "      <td>30.09.2024</td>\n",
       "      <td>FALSE</td>\n",
       "      <td>NaN</td>\n",
       "      <td>mix-breed</td>\n",
       "      <td>male</td>\n",
       "      <td>True</td>\n",
       "    </tr>\n",
       "    <tr>\n",
       "      <th>25</th>\n",
       "      <td>Tola</td>\n",
       "      <td>1126/24</td>\n",
       "      <td>03.08.2024</td>\n",
       "      <td>8 msc</td>\n",
       "      <td>8</td>\n",
       "      <td>27.09.2024</td>\n",
       "      <td>FALSE</td>\n",
       "      <td>NaN</td>\n",
       "      <td>mix-breed</td>\n",
       "      <td>female</td>\n",
       "      <td>True</td>\n",
       "    </tr>\n",
       "    <tr>\n",
       "      <th>26</th>\n",
       "      <td>Libia</td>\n",
       "      <td>645/23</td>\n",
       "      <td>24.04.2023</td>\n",
       "      <td>2</td>\n",
       "      <td>36</td>\n",
       "      <td>14.09.2024</td>\n",
       "      <td>FALSE</td>\n",
       "      <td>NaN</td>\n",
       "      <td>mix-breed</td>\n",
       "      <td>female</td>\n",
       "      <td>True</td>\n",
       "    </tr>\n",
       "    <tr>\n",
       "      <th>27</th>\n",
       "      <td>Figaro</td>\n",
       "      <td>1017/24</td>\n",
       "      <td>15.07.2024</td>\n",
       "      <td>1</td>\n",
       "      <td>9</td>\n",
       "      <td>09.09.2024</td>\n",
       "      <td>FALSE</td>\n",
       "      <td>NaN</td>\n",
       "      <td>mix-breed</td>\n",
       "      <td>male</td>\n",
       "      <td>False</td>\n",
       "    </tr>\n",
       "    <tr>\n",
       "      <th>28</th>\n",
       "      <td>Gloria</td>\n",
       "      <td>352/24</td>\n",
       "      <td>07.03.2024</td>\n",
       "      <td>9</td>\n",
       "      <td>14</td>\n",
       "      <td>07.09.2024</td>\n",
       "      <td>FALSE</td>\n",
       "      <td>NaN</td>\n",
       "      <td>mix-breed</td>\n",
       "      <td>female</td>\n",
       "      <td>True</td>\n",
       "    </tr>\n",
       "    <tr>\n",
       "      <th>29</th>\n",
       "      <td>Milka</td>\n",
       "      <td>1011/24</td>\n",
       "      <td>14.07.2024</td>\n",
       "      <td>1</td>\n",
       "      <td>12</td>\n",
       "      <td>25.08.2024</td>\n",
       "      <td>FALSE</td>\n",
       "      <td>NaN</td>\n",
       "      <td>mix-breed</td>\n",
       "      <td>female</td>\n",
       "      <td>False</td>\n",
       "    </tr>\n",
       "  </tbody>\n",
       "</table>\n",
       "</div>"
      ],
      "text/plain": [
       "       Name Reference Number Arrival Date Age when adopted Weight in kg  \\\n",
       "0     Bruno            60/24   13.01.2024                4         27,5   \n",
       "1    Tofino           272/25   24.03.2025           10 msc           15   \n",
       "2      Asai           166/25   22.02.2025                1           10   \n",
       "3      Vega          1767/23   08.12.2023                4           39   \n",
       "4    Zarina          1132/24   05.08.2024                8           36   \n",
       "5     Simba           579/24   17.04.2024                7           23   \n",
       "6     Gucci           106/25   04.02.2025                3           15   \n",
       "7    Berlin          1676/24   04.12.2024                2           12   \n",
       "8    Czaruś          1677/24   04.12.2024                1           11   \n",
       "9      Ulfi          1518/24   28.10.2024                3           19   \n",
       "10   Tarzan          1284/23   03.09.2023                9           27   \n",
       "11    Mimir           425/24   19.03.2024                9           52   \n",
       "12    Serek          1732/24   18.12.2024                9            8   \n",
       "13     Thor          1577/24   09.11.2024                2           25   \n",
       "14    Amigo              NaN   12.08.2024                2            5   \n",
       "15    Serek          1548/24   04.11.2024                9            8   \n",
       "16    Lorek           871/23   11.06.2023                2           22   \n",
       "17    Nocka          1534/24   01.11.2024                4           11   \n",
       "18    Vadim            78/24   15.01.2024                7           27   \n",
       "19  Smerfuś          1063/24   23.07.2024            8 msc           14   \n",
       "20     Sato           268/24   20.02.2024                1           23   \n",
       "21    Misza          1087/24   28.07.2024           11 msc            9   \n",
       "22    Goldi          1399/24   06.10.2024                8         24,5   \n",
       "23    Fendi          1219/24   24.08.2024                2           10   \n",
       "24  Diament          1220/24   24.08.2024                3           13   \n",
       "25     Tola          1126/24   03.08.2024            8 msc            8   \n",
       "26    Libia           645/23   24.04.2023                2           36   \n",
       "27   Figaro          1017/24   15.07.2024                1            9   \n",
       "28   Gloria           352/24   07.03.2024                9           14   \n",
       "29    Milka          1011/24   14.07.2024                1           12   \n",
       "\n",
       "   Adoption Date Returned Date of return              Breed  Gender Black fur  \n",
       "0     30.04.2025    FALSE            NaN          mix-breed    male     False  \n",
       "1     29.04.2025    FALSE            NaN          mix-breed    male      True  \n",
       "2     15.04.2025    FALSE            NaN          mix-breed    male      True  \n",
       "3     14.04.2025    FALSE            NaN    German Shepherd  female     False  \n",
       "4     07.04.2025    FALSE            NaN          mix-breed  female     False  \n",
       "5     30.03.2025    FALSE            NaN          mix-breed    male      True  \n",
       "6     14.03.2025    FALSE            NaN          mix-breed    male     False  \n",
       "7     26.02.2025    FALSE            NaN          mix-breed    male     False  \n",
       "8     25.02.2025    FALSE            NaN          mix-breed    male      True  \n",
       "9     15.02.2025    FALSE            NaN          mix-breed    male     False  \n",
       "10    08.02.2025    FALSE            NaN          mix-breed    male      True  \n",
       "11    01.02.2025    FALSE            NaN    Moscow Watchdog    male     False  \n",
       "12    25.01.2025     TRUE     13.04.2025  Yorkshire Terrier    male     False  \n",
       "13    17.01.2025    FALSE            NaN            Amstaff    male      True  \n",
       "14    13.12.2024    FALSE            NaN          mix-breed    male     False  \n",
       "15    07.12.2024     TRUE     18.12.2024  Yorkshire Terrier    male     False  \n",
       "16    25.11.2024    FALSE            NaN          mix-breed    male     False  \n",
       "17    23.11.2024    FALSE            NaN          mix-breed  female     False  \n",
       "18    16.11.2024    FALSE            NaN          mix-breed    male      True  \n",
       "19    12.11.2024    FALSE            NaN          mix-breed    male      True  \n",
       "20    12.11.2024    FALSE            NaN          mix-breed    male      True  \n",
       "21    19.10.2024    FALSE            NaN          mix-breed  female      True  \n",
       "22    13.10.2024    FALSE            NaN          mix-breed    male     False  \n",
       "23    05.10.2024    FALSE            NaN          mix-breed  female     False  \n",
       "24    30.09.2024    FALSE            NaN          mix-breed    male      True  \n",
       "25    27.09.2024    FALSE            NaN          mix-breed  female      True  \n",
       "26    14.09.2024    FALSE            NaN          mix-breed  female      True  \n",
       "27    09.09.2024    FALSE            NaN          mix-breed    male     False  \n",
       "28    07.09.2024    FALSE            NaN          mix-breed  female      True  \n",
       "29    25.08.2024    FALSE            NaN          mix-breed  female     False  "
      ]
     },
     "execution_count": 5,
     "metadata": {},
     "output_type": "execute_result"
    }
   ],
   "source": [
    "# Quick look at the first rows of data\n",
    "df.head(30)"
   ]
  },
  {
   "cell_type": "code",
   "execution_count": 6,
   "id": "bf75eed0-bccf-4d1e-9f21-53b36d28fdce",
   "metadata": {},
   "outputs": [
    {
     "name": "stdout",
     "output_type": "stream",
     "text": [
      "<class 'pandas.core.frame.DataFrame'>\n",
      "RangeIndex: 718 entries, 0 to 717\n",
      "Data columns (total 11 columns):\n",
      " #   Column            Non-Null Count  Dtype \n",
      "---  ------            --------------  ----- \n",
      " 0   Name              718 non-null    object\n",
      " 1   Reference Number  716 non-null    object\n",
      " 2   Arrival Date      717 non-null    object\n",
      " 3   Age when adopted  698 non-null    object\n",
      " 4   Weight in kg      716 non-null    object\n",
      " 5   Adoption Date     718 non-null    object\n",
      " 6   Returned          718 non-null    object\n",
      " 7   Date of return    42 non-null     object\n",
      " 8   Breed             716 non-null    object\n",
      " 9   Gender            717 non-null    object\n",
      " 10  Black fur         689 non-null    object\n",
      "dtypes: object(11)\n",
      "memory usage: 61.8+ KB\n"
     ]
    }
   ],
   "source": [
    "# Check column names, data types and the number of non-null values\n",
    "df.info()"
   ]
  },
  {
   "cell_type": "code",
   "execution_count": 7,
   "id": "a793a6fb-d2de-41be-8aaa-7925294a6020",
   "metadata": {},
   "outputs": [],
   "source": [
    "# Change columns to lower case for better readability\n",
    "df.columns=df.columns.str.lower()"
   ]
  },
  {
   "cell_type": "markdown",
   "id": "e4e73694-5800-4db6-a61a-f12f0df7d724",
   "metadata": {},
   "source": [
    "# Missing values"
   ]
  },
  {
   "cell_type": "code",
   "execution_count": 9,
   "id": "d715c062-f4dd-4977-b294-c8558a14107a",
   "metadata": {
    "scrolled": true
   },
   "outputs": [
    {
     "data": {
      "text/plain": [
       "name                  0\n",
       "reference number      2\n",
       "arrival date          1\n",
       "age when adopted     20\n",
       "weight in kg          2\n",
       "adoption date         0\n",
       "returned              0\n",
       "date of return      676\n",
       "breed                 2\n",
       "gender                1\n",
       "black fur            29\n",
       "dtype: int64"
      ]
     },
     "execution_count": 9,
     "metadata": {},
     "output_type": "execute_result"
    }
   ],
   "source": [
    "# First let's find the number of missing values\n",
    "df.isnull().sum()"
   ]
  },
  {
   "cell_type": "markdown",
   "id": "7abde133-2178-4ad2-8b05-bc903a689298",
   "metadata": {},
   "source": [
    "#### date of return"
   ]
  },
  {
   "cell_type": "code",
   "execution_count": 18,
   "id": "93f2c90a-eabc-406f-afa2-1862e346d409",
   "metadata": {},
   "outputs": [],
   "source": [
    "# There are many missing values in the 'date of return' column. However it's not wrong, since only some\n",
    "# of the dogs have been returned. If the dog hasn't been returned, then obviously value for 'date of return' will be empty. "
   ]
  },
  {
   "cell_type": "markdown",
   "id": "3c8f3b86-bbc2-4e56-8329-c409c4fc510e",
   "metadata": {},
   "source": [
    "#### reference number"
   ]
  },
  {
   "cell_type": "code",
   "execution_count": 21,
   "id": "f5267d50-e5bb-4cfe-8466-ea5dde45dafb",
   "metadata": {},
   "outputs": [],
   "source": [
    "# This number is an internal way to identify a dog in the shelter. It's not valuable and needed for the data analysis, so we don't need \n",
    "# to worry about any missing values in this column. In fact, we can remove this column to avoid any confusion later.\n",
    "df = df.drop('reference number', axis=1)"
   ]
  },
  {
   "cell_type": "markdown",
   "id": "14875e33-85d8-4ec0-949e-9b498a405b62",
   "metadata": {},
   "source": [
    "#### age when adopted"
   ]
  },
  {
   "cell_type": "code",
   "execution_count": 24,
   "id": "583e3b2f-3d78-4c9b-ba12-a624efd72597",
   "metadata": {},
   "outputs": [
    {
     "data": {
      "text/html": [
       "<div>\n",
       "<style scoped>\n",
       "    .dataframe tbody tr th:only-of-type {\n",
       "        vertical-align: middle;\n",
       "    }\n",
       "\n",
       "    .dataframe tbody tr th {\n",
       "        vertical-align: top;\n",
       "    }\n",
       "\n",
       "    .dataframe thead th {\n",
       "        text-align: right;\n",
       "    }\n",
       "</style>\n",
       "<table border=\"1\" class=\"dataframe\">\n",
       "  <thead>\n",
       "    <tr style=\"text-align: right;\">\n",
       "      <th></th>\n",
       "      <th>name</th>\n",
       "      <th>arrival date</th>\n",
       "      <th>age when adopted</th>\n",
       "      <th>weight in kg</th>\n",
       "      <th>adoption date</th>\n",
       "      <th>returned</th>\n",
       "      <th>date of return</th>\n",
       "      <th>breed</th>\n",
       "      <th>gender</th>\n",
       "      <th>black fur</th>\n",
       "    </tr>\n",
       "  </thead>\n",
       "  <tbody>\n",
       "    <tr>\n",
       "      <th>0</th>\n",
       "      <td>Bruno</td>\n",
       "      <td>13.01.2024</td>\n",
       "      <td>4.0</td>\n",
       "      <td>27,5</td>\n",
       "      <td>30.04.2025</td>\n",
       "      <td>FALSE</td>\n",
       "      <td>NaN</td>\n",
       "      <td>mix-breed</td>\n",
       "      <td>male</td>\n",
       "      <td>False</td>\n",
       "    </tr>\n",
       "    <tr>\n",
       "      <th>1</th>\n",
       "      <td>Tofino</td>\n",
       "      <td>24.03.2025</td>\n",
       "      <td>0.8</td>\n",
       "      <td>15</td>\n",
       "      <td>29.04.2025</td>\n",
       "      <td>FALSE</td>\n",
       "      <td>NaN</td>\n",
       "      <td>mix-breed</td>\n",
       "      <td>male</td>\n",
       "      <td>True</td>\n",
       "    </tr>\n",
       "    <tr>\n",
       "      <th>2</th>\n",
       "      <td>Asai</td>\n",
       "      <td>22.02.2025</td>\n",
       "      <td>1.0</td>\n",
       "      <td>10</td>\n",
       "      <td>15.04.2025</td>\n",
       "      <td>FALSE</td>\n",
       "      <td>NaN</td>\n",
       "      <td>mix-breed</td>\n",
       "      <td>male</td>\n",
       "      <td>True</td>\n",
       "    </tr>\n",
       "    <tr>\n",
       "      <th>3</th>\n",
       "      <td>Vega</td>\n",
       "      <td>08.12.2023</td>\n",
       "      <td>4.0</td>\n",
       "      <td>39</td>\n",
       "      <td>14.04.2025</td>\n",
       "      <td>FALSE</td>\n",
       "      <td>NaN</td>\n",
       "      <td>German Shepherd</td>\n",
       "      <td>female</td>\n",
       "      <td>False</td>\n",
       "    </tr>\n",
       "    <tr>\n",
       "      <th>4</th>\n",
       "      <td>Zarina</td>\n",
       "      <td>05.08.2024</td>\n",
       "      <td>8.0</td>\n",
       "      <td>36</td>\n",
       "      <td>07.04.2025</td>\n",
       "      <td>FALSE</td>\n",
       "      <td>NaN</td>\n",
       "      <td>mix-breed</td>\n",
       "      <td>female</td>\n",
       "      <td>False</td>\n",
       "    </tr>\n",
       "    <tr>\n",
       "      <th>5</th>\n",
       "      <td>Simba</td>\n",
       "      <td>17.04.2024</td>\n",
       "      <td>7.0</td>\n",
       "      <td>23</td>\n",
       "      <td>30.03.2025</td>\n",
       "      <td>FALSE</td>\n",
       "      <td>NaN</td>\n",
       "      <td>mix-breed</td>\n",
       "      <td>male</td>\n",
       "      <td>True</td>\n",
       "    </tr>\n",
       "    <tr>\n",
       "      <th>6</th>\n",
       "      <td>Gucci</td>\n",
       "      <td>04.02.2025</td>\n",
       "      <td>3.0</td>\n",
       "      <td>15</td>\n",
       "      <td>14.03.2025</td>\n",
       "      <td>FALSE</td>\n",
       "      <td>NaN</td>\n",
       "      <td>mix-breed</td>\n",
       "      <td>male</td>\n",
       "      <td>False</td>\n",
       "    </tr>\n",
       "    <tr>\n",
       "      <th>7</th>\n",
       "      <td>Berlin</td>\n",
       "      <td>04.12.2024</td>\n",
       "      <td>2.0</td>\n",
       "      <td>12</td>\n",
       "      <td>26.02.2025</td>\n",
       "      <td>FALSE</td>\n",
       "      <td>NaN</td>\n",
       "      <td>mix-breed</td>\n",
       "      <td>male</td>\n",
       "      <td>False</td>\n",
       "    </tr>\n",
       "    <tr>\n",
       "      <th>8</th>\n",
       "      <td>Czaruś</td>\n",
       "      <td>04.12.2024</td>\n",
       "      <td>1.0</td>\n",
       "      <td>11</td>\n",
       "      <td>25.02.2025</td>\n",
       "      <td>FALSE</td>\n",
       "      <td>NaN</td>\n",
       "      <td>mix-breed</td>\n",
       "      <td>male</td>\n",
       "      <td>True</td>\n",
       "    </tr>\n",
       "    <tr>\n",
       "      <th>9</th>\n",
       "      <td>Ulfi</td>\n",
       "      <td>28.10.2024</td>\n",
       "      <td>3.0</td>\n",
       "      <td>19</td>\n",
       "      <td>15.02.2025</td>\n",
       "      <td>FALSE</td>\n",
       "      <td>NaN</td>\n",
       "      <td>mix-breed</td>\n",
       "      <td>male</td>\n",
       "      <td>False</td>\n",
       "    </tr>\n",
       "    <tr>\n",
       "      <th>10</th>\n",
       "      <td>Tarzan</td>\n",
       "      <td>03.09.2023</td>\n",
       "      <td>9.0</td>\n",
       "      <td>27</td>\n",
       "      <td>08.02.2025</td>\n",
       "      <td>FALSE</td>\n",
       "      <td>NaN</td>\n",
       "      <td>mix-breed</td>\n",
       "      <td>male</td>\n",
       "      <td>True</td>\n",
       "    </tr>\n",
       "    <tr>\n",
       "      <th>11</th>\n",
       "      <td>Mimir</td>\n",
       "      <td>19.03.2024</td>\n",
       "      <td>9.0</td>\n",
       "      <td>52</td>\n",
       "      <td>01.02.2025</td>\n",
       "      <td>FALSE</td>\n",
       "      <td>NaN</td>\n",
       "      <td>Moscow Watchdog</td>\n",
       "      <td>male</td>\n",
       "      <td>False</td>\n",
       "    </tr>\n",
       "    <tr>\n",
       "      <th>12</th>\n",
       "      <td>Serek</td>\n",
       "      <td>18.12.2024</td>\n",
       "      <td>9.0</td>\n",
       "      <td>8</td>\n",
       "      <td>25.01.2025</td>\n",
       "      <td>TRUE</td>\n",
       "      <td>13.04.2025</td>\n",
       "      <td>Yorkshire Terrier</td>\n",
       "      <td>male</td>\n",
       "      <td>False</td>\n",
       "    </tr>\n",
       "    <tr>\n",
       "      <th>13</th>\n",
       "      <td>Thor</td>\n",
       "      <td>09.11.2024</td>\n",
       "      <td>2.0</td>\n",
       "      <td>25</td>\n",
       "      <td>17.01.2025</td>\n",
       "      <td>FALSE</td>\n",
       "      <td>NaN</td>\n",
       "      <td>Amstaff</td>\n",
       "      <td>male</td>\n",
       "      <td>True</td>\n",
       "    </tr>\n",
       "    <tr>\n",
       "      <th>14</th>\n",
       "      <td>Amigo</td>\n",
       "      <td>12.08.2024</td>\n",
       "      <td>2.0</td>\n",
       "      <td>5</td>\n",
       "      <td>13.12.2024</td>\n",
       "      <td>FALSE</td>\n",
       "      <td>NaN</td>\n",
       "      <td>mix-breed</td>\n",
       "      <td>male</td>\n",
       "      <td>False</td>\n",
       "    </tr>\n",
       "    <tr>\n",
       "      <th>15</th>\n",
       "      <td>Serek</td>\n",
       "      <td>04.11.2024</td>\n",
       "      <td>9.0</td>\n",
       "      <td>8</td>\n",
       "      <td>07.12.2024</td>\n",
       "      <td>TRUE</td>\n",
       "      <td>18.12.2024</td>\n",
       "      <td>Yorkshire Terrier</td>\n",
       "      <td>male</td>\n",
       "      <td>False</td>\n",
       "    </tr>\n",
       "    <tr>\n",
       "      <th>16</th>\n",
       "      <td>Lorek</td>\n",
       "      <td>11.06.2023</td>\n",
       "      <td>2.0</td>\n",
       "      <td>22</td>\n",
       "      <td>25.11.2024</td>\n",
       "      <td>FALSE</td>\n",
       "      <td>NaN</td>\n",
       "      <td>mix-breed</td>\n",
       "      <td>male</td>\n",
       "      <td>False</td>\n",
       "    </tr>\n",
       "    <tr>\n",
       "      <th>17</th>\n",
       "      <td>Nocka</td>\n",
       "      <td>01.11.2024</td>\n",
       "      <td>4.0</td>\n",
       "      <td>11</td>\n",
       "      <td>23.11.2024</td>\n",
       "      <td>FALSE</td>\n",
       "      <td>NaN</td>\n",
       "      <td>mix-breed</td>\n",
       "      <td>female</td>\n",
       "      <td>False</td>\n",
       "    </tr>\n",
       "    <tr>\n",
       "      <th>18</th>\n",
       "      <td>Vadim</td>\n",
       "      <td>15.01.2024</td>\n",
       "      <td>7.0</td>\n",
       "      <td>27</td>\n",
       "      <td>16.11.2024</td>\n",
       "      <td>FALSE</td>\n",
       "      <td>NaN</td>\n",
       "      <td>mix-breed</td>\n",
       "      <td>male</td>\n",
       "      <td>True</td>\n",
       "    </tr>\n",
       "    <tr>\n",
       "      <th>19</th>\n",
       "      <td>Smerfuś</td>\n",
       "      <td>23.07.2024</td>\n",
       "      <td>0.7</td>\n",
       "      <td>14</td>\n",
       "      <td>12.11.2024</td>\n",
       "      <td>FALSE</td>\n",
       "      <td>NaN</td>\n",
       "      <td>mix-breed</td>\n",
       "      <td>male</td>\n",
       "      <td>True</td>\n",
       "    </tr>\n",
       "    <tr>\n",
       "      <th>20</th>\n",
       "      <td>Sato</td>\n",
       "      <td>20.02.2024</td>\n",
       "      <td>1.0</td>\n",
       "      <td>23</td>\n",
       "      <td>12.11.2024</td>\n",
       "      <td>FALSE</td>\n",
       "      <td>NaN</td>\n",
       "      <td>mix-breed</td>\n",
       "      <td>male</td>\n",
       "      <td>True</td>\n",
       "    </tr>\n",
       "    <tr>\n",
       "      <th>21</th>\n",
       "      <td>Misza</td>\n",
       "      <td>28.07.2024</td>\n",
       "      <td>0.9</td>\n",
       "      <td>9</td>\n",
       "      <td>19.10.2024</td>\n",
       "      <td>FALSE</td>\n",
       "      <td>NaN</td>\n",
       "      <td>mix-breed</td>\n",
       "      <td>female</td>\n",
       "      <td>True</td>\n",
       "    </tr>\n",
       "    <tr>\n",
       "      <th>22</th>\n",
       "      <td>Goldi</td>\n",
       "      <td>06.10.2024</td>\n",
       "      <td>8.0</td>\n",
       "      <td>24,5</td>\n",
       "      <td>13.10.2024</td>\n",
       "      <td>FALSE</td>\n",
       "      <td>NaN</td>\n",
       "      <td>mix-breed</td>\n",
       "      <td>male</td>\n",
       "      <td>False</td>\n",
       "    </tr>\n",
       "    <tr>\n",
       "      <th>23</th>\n",
       "      <td>Fendi</td>\n",
       "      <td>24.08.2024</td>\n",
       "      <td>2.0</td>\n",
       "      <td>10</td>\n",
       "      <td>05.10.2024</td>\n",
       "      <td>FALSE</td>\n",
       "      <td>NaN</td>\n",
       "      <td>mix-breed</td>\n",
       "      <td>female</td>\n",
       "      <td>False</td>\n",
       "    </tr>\n",
       "    <tr>\n",
       "      <th>24</th>\n",
       "      <td>Diament</td>\n",
       "      <td>24.08.2024</td>\n",
       "      <td>3.0</td>\n",
       "      <td>13</td>\n",
       "      <td>30.09.2024</td>\n",
       "      <td>FALSE</td>\n",
       "      <td>NaN</td>\n",
       "      <td>mix-breed</td>\n",
       "      <td>male</td>\n",
       "      <td>True</td>\n",
       "    </tr>\n",
       "    <tr>\n",
       "      <th>25</th>\n",
       "      <td>Tola</td>\n",
       "      <td>03.08.2024</td>\n",
       "      <td>0.7</td>\n",
       "      <td>8</td>\n",
       "      <td>27.09.2024</td>\n",
       "      <td>FALSE</td>\n",
       "      <td>NaN</td>\n",
       "      <td>mix-breed</td>\n",
       "      <td>female</td>\n",
       "      <td>True</td>\n",
       "    </tr>\n",
       "    <tr>\n",
       "      <th>26</th>\n",
       "      <td>Libia</td>\n",
       "      <td>24.04.2023</td>\n",
       "      <td>2.0</td>\n",
       "      <td>36</td>\n",
       "      <td>14.09.2024</td>\n",
       "      <td>FALSE</td>\n",
       "      <td>NaN</td>\n",
       "      <td>mix-breed</td>\n",
       "      <td>female</td>\n",
       "      <td>True</td>\n",
       "    </tr>\n",
       "    <tr>\n",
       "      <th>27</th>\n",
       "      <td>Figaro</td>\n",
       "      <td>15.07.2024</td>\n",
       "      <td>1.0</td>\n",
       "      <td>9</td>\n",
       "      <td>09.09.2024</td>\n",
       "      <td>FALSE</td>\n",
       "      <td>NaN</td>\n",
       "      <td>mix-breed</td>\n",
       "      <td>male</td>\n",
       "      <td>False</td>\n",
       "    </tr>\n",
       "    <tr>\n",
       "      <th>28</th>\n",
       "      <td>Gloria</td>\n",
       "      <td>07.03.2024</td>\n",
       "      <td>9.0</td>\n",
       "      <td>14</td>\n",
       "      <td>07.09.2024</td>\n",
       "      <td>FALSE</td>\n",
       "      <td>NaN</td>\n",
       "      <td>mix-breed</td>\n",
       "      <td>female</td>\n",
       "      <td>True</td>\n",
       "    </tr>\n",
       "    <tr>\n",
       "      <th>29</th>\n",
       "      <td>Milka</td>\n",
       "      <td>14.07.2024</td>\n",
       "      <td>1.0</td>\n",
       "      <td>12</td>\n",
       "      <td>25.08.2024</td>\n",
       "      <td>FALSE</td>\n",
       "      <td>NaN</td>\n",
       "      <td>mix-breed</td>\n",
       "      <td>female</td>\n",
       "      <td>False</td>\n",
       "    </tr>\n",
       "  </tbody>\n",
       "</table>\n",
       "</div>"
      ],
      "text/plain": [
       "       name arrival date  age when adopted weight in kg adoption date  \\\n",
       "0     Bruno   13.01.2024               4.0         27,5    30.04.2025   \n",
       "1    Tofino   24.03.2025               0.8           15    29.04.2025   \n",
       "2      Asai   22.02.2025               1.0           10    15.04.2025   \n",
       "3      Vega   08.12.2023               4.0           39    14.04.2025   \n",
       "4    Zarina   05.08.2024               8.0           36    07.04.2025   \n",
       "5     Simba   17.04.2024               7.0           23    30.03.2025   \n",
       "6     Gucci   04.02.2025               3.0           15    14.03.2025   \n",
       "7    Berlin   04.12.2024               2.0           12    26.02.2025   \n",
       "8    Czaruś   04.12.2024               1.0           11    25.02.2025   \n",
       "9      Ulfi   28.10.2024               3.0           19    15.02.2025   \n",
       "10   Tarzan   03.09.2023               9.0           27    08.02.2025   \n",
       "11    Mimir   19.03.2024               9.0           52    01.02.2025   \n",
       "12    Serek   18.12.2024               9.0            8    25.01.2025   \n",
       "13     Thor   09.11.2024               2.0           25    17.01.2025   \n",
       "14    Amigo   12.08.2024               2.0            5    13.12.2024   \n",
       "15    Serek   04.11.2024               9.0            8    07.12.2024   \n",
       "16    Lorek   11.06.2023               2.0           22    25.11.2024   \n",
       "17    Nocka   01.11.2024               4.0           11    23.11.2024   \n",
       "18    Vadim   15.01.2024               7.0           27    16.11.2024   \n",
       "19  Smerfuś   23.07.2024               0.7           14    12.11.2024   \n",
       "20     Sato   20.02.2024               1.0           23    12.11.2024   \n",
       "21    Misza   28.07.2024               0.9            9    19.10.2024   \n",
       "22    Goldi   06.10.2024               8.0         24,5    13.10.2024   \n",
       "23    Fendi   24.08.2024               2.0           10    05.10.2024   \n",
       "24  Diament   24.08.2024               3.0           13    30.09.2024   \n",
       "25     Tola   03.08.2024               0.7            8    27.09.2024   \n",
       "26    Libia   24.04.2023               2.0           36    14.09.2024   \n",
       "27   Figaro   15.07.2024               1.0            9    09.09.2024   \n",
       "28   Gloria   07.03.2024               9.0           14    07.09.2024   \n",
       "29    Milka   14.07.2024               1.0           12    25.08.2024   \n",
       "\n",
       "   returned date of return              breed  gender black fur  \n",
       "0     FALSE            NaN          mix-breed    male     False  \n",
       "1     FALSE            NaN          mix-breed    male      True  \n",
       "2     FALSE            NaN          mix-breed    male      True  \n",
       "3     FALSE            NaN    German Shepherd  female     False  \n",
       "4     FALSE            NaN          mix-breed  female     False  \n",
       "5     FALSE            NaN          mix-breed    male      True  \n",
       "6     FALSE            NaN          mix-breed    male     False  \n",
       "7     FALSE            NaN          mix-breed    male     False  \n",
       "8     FALSE            NaN          mix-breed    male      True  \n",
       "9     FALSE            NaN          mix-breed    male     False  \n",
       "10    FALSE            NaN          mix-breed    male      True  \n",
       "11    FALSE            NaN    Moscow Watchdog    male     False  \n",
       "12     TRUE     13.04.2025  Yorkshire Terrier    male     False  \n",
       "13    FALSE            NaN            Amstaff    male      True  \n",
       "14    FALSE            NaN          mix-breed    male     False  \n",
       "15     TRUE     18.12.2024  Yorkshire Terrier    male     False  \n",
       "16    FALSE            NaN          mix-breed    male     False  \n",
       "17    FALSE            NaN          mix-breed  female     False  \n",
       "18    FALSE            NaN          mix-breed    male      True  \n",
       "19    FALSE            NaN          mix-breed    male      True  \n",
       "20    FALSE            NaN          mix-breed    male      True  \n",
       "21    FALSE            NaN          mix-breed  female      True  \n",
       "22    FALSE            NaN          mix-breed    male     False  \n",
       "23    FALSE            NaN          mix-breed  female     False  \n",
       "24    FALSE            NaN          mix-breed    male      True  \n",
       "25    FALSE            NaN          mix-breed  female      True  \n",
       "26    FALSE            NaN          mix-breed  female      True  \n",
       "27    FALSE            NaN          mix-breed    male     False  \n",
       "28    FALSE            NaN          mix-breed  female      True  \n",
       "29    FALSE            NaN          mix-breed  female     False  "
      ]
     },
     "execution_count": 24,
     "metadata": {},
     "output_type": "execute_result"
    }
   ],
   "source": [
    "# Let's fill out the missing values with mean values of this column. \n",
    "# First, we have to convert all values expressed in months to values expressed in years\n",
    "def convert_months_to_years(value):\n",
    "    if isinstance(value, str) and 'msc' in value:\n",
    "        months = float(value.replace(' msc', ''))  \n",
    "        return round(months / 12, 1) \n",
    "    return value \n",
    "\n",
    "# Applying the function to the 'age when adopted' column\n",
    "df['age when adopted'] = df['age when adopted'].apply(convert_months_to_years)\n",
    "\n",
    "# Changing type of the column to float\n",
    "df['age when adopted'] = pd.to_numeric(df['age when adopted'], errors='coerce')\n",
    "\n",
    "# Counting mean age\n",
    "mean_age = df['age when adopted'].mean()\n",
    "\n",
    "# Changing NaNs to mean\n",
    "df['age when adopted'] = df['age when adopted'].fillna(mean_age).round(1)\n",
    "\n",
    "# Take a look if it works\n",
    "df.head(30)"
   ]
  },
  {
   "cell_type": "markdown",
   "id": "3312f081-efe6-4b21-8c9d-8490b959a91f",
   "metadata": {},
   "source": [
    "#### black fur"
   ]
  },
  {
   "cell_type": "code",
   "execution_count": 27,
   "id": "ab83d5fa-cd08-4504-bb2c-3bdcca5b8647",
   "metadata": {},
   "outputs": [],
   "source": [
    "# I will just get rid of the missing values in this column. \n",
    "df = df.dropna(subset=['black fur'])"
   ]
  },
  {
   "cell_type": "code",
   "execution_count": 29,
   "id": "c7d4697a-ea27-43e6-81ae-47ad2efd25c6",
   "metadata": {},
   "outputs": [
    {
     "data": {
      "text/plain": [
       "name                  0\n",
       "arrival date          0\n",
       "age when adopted      0\n",
       "weight in kg          0\n",
       "adoption date         0\n",
       "returned              0\n",
       "date of return      647\n",
       "breed                 0\n",
       "gender                0\n",
       "black fur             0\n",
       "dtype: int64"
      ]
     },
     "execution_count": 29,
     "metadata": {},
     "output_type": "execute_result"
    }
   ],
   "source": [
    "# Let's check if there are any missing values left apart from the ones in the 'date of return' column\n",
    "df.isnull().sum()"
   ]
  },
  {
   "cell_type": "markdown",
   "id": "124f2fbb-558d-45ee-8661-3d92855d9cc9",
   "metadata": {},
   "source": [
    "# Illogical values"
   ]
  },
  {
   "cell_type": "markdown",
   "id": "df62529c-bafb-4d13-ac34-1ae4a40ee298",
   "metadata": {},
   "source": [
    "#### returned & date of return"
   ]
  },
  {
   "cell_type": "code",
   "execution_count": 33,
   "id": "61efb2aa-92a7-4af9-9435-0ca963e477db",
   "metadata": {},
   "outputs": [
    {
     "data": {
      "text/html": [
       "<div>\n",
       "<style scoped>\n",
       "    .dataframe tbody tr th:only-of-type {\n",
       "        vertical-align: middle;\n",
       "    }\n",
       "\n",
       "    .dataframe tbody tr th {\n",
       "        vertical-align: top;\n",
       "    }\n",
       "\n",
       "    .dataframe thead th {\n",
       "        text-align: right;\n",
       "    }\n",
       "</style>\n",
       "<table border=\"1\" class=\"dataframe\">\n",
       "  <thead>\n",
       "    <tr style=\"text-align: right;\">\n",
       "      <th></th>\n",
       "      <th>name</th>\n",
       "      <th>arrival date</th>\n",
       "      <th>age when adopted</th>\n",
       "      <th>weight in kg</th>\n",
       "      <th>adoption date</th>\n",
       "      <th>returned</th>\n",
       "      <th>date of return</th>\n",
       "      <th>breed</th>\n",
       "      <th>gender</th>\n",
       "      <th>black fur</th>\n",
       "    </tr>\n",
       "  </thead>\n",
       "  <tbody>\n",
       "    <tr>\n",
       "      <th>371</th>\n",
       "      <td>Gaj</td>\n",
       "      <td>25.02.2022</td>\n",
       "      <td>1.0</td>\n",
       "      <td>13</td>\n",
       "      <td>27.04.2022</td>\n",
       "      <td>TRUE</td>\n",
       "      <td>NaN</td>\n",
       "      <td>mix-breed</td>\n",
       "      <td>male</td>\n",
       "      <td>True</td>\n",
       "    </tr>\n",
       "    <tr>\n",
       "      <th>408</th>\n",
       "      <td>Sally</td>\n",
       "      <td>18.07.2021</td>\n",
       "      <td>8.0</td>\n",
       "      <td>15</td>\n",
       "      <td>05.11.2021</td>\n",
       "      <td>TRUE</td>\n",
       "      <td>NaN</td>\n",
       "      <td>mix-breed</td>\n",
       "      <td>female</td>\n",
       "      <td>False</td>\n",
       "    </tr>\n",
       "    <tr>\n",
       "      <th>484</th>\n",
       "      <td>Lonia</td>\n",
       "      <td>03.09.2020</td>\n",
       "      <td>4.0</td>\n",
       "      <td>14</td>\n",
       "      <td>23.10.2020</td>\n",
       "      <td>TRUE</td>\n",
       "      <td>NaN</td>\n",
       "      <td>mix-breed</td>\n",
       "      <td>male</td>\n",
       "      <td>False</td>\n",
       "    </tr>\n",
       "  </tbody>\n",
       "</table>\n",
       "</div>"
      ],
      "text/plain": [
       "      name arrival date  age when adopted weight in kg adoption date returned  \\\n",
       "371    Gaj   25.02.2022               1.0           13    27.04.2022     TRUE   \n",
       "408  Sally   18.07.2021               8.0           15    05.11.2021     TRUE   \n",
       "484  Lonia   03.09.2020               4.0           14    23.10.2020     TRUE   \n",
       "\n",
       "    date of return      breed  gender black fur  \n",
       "371            NaN  mix-breed    male      True  \n",
       "408            NaN  mix-breed  female     False  \n",
       "484            NaN  mix-breed    male     False  "
      ]
     },
     "execution_count": 33,
     "metadata": {},
     "output_type": "execute_result"
    }
   ],
   "source": [
    "# Let's check if there are dogs which were returned but don't have any entry in the 'date of return' column.\n",
    "df[(df['returned'] =='TRUE') & (df['date of return'].isna())]"
   ]
  },
  {
   "cell_type": "code",
   "execution_count": 35,
   "id": "88543a98-bdc3-4022-98b0-b30cbde297fb",
   "metadata": {},
   "outputs": [],
   "source": [
    "# It seems that are 3 cases where the date of return is missing, let's drop them. \n",
    "df = df[~((df['returned'] == 'TRUE') & (df['date of return'].isna()))]"
   ]
  },
  {
   "cell_type": "markdown",
   "id": "c7f00c81-5bd5-4db4-8366-95a7d7f6813a",
   "metadata": {},
   "source": [
    "#### weight in kg\n"
   ]
  },
  {
   "cell_type": "code",
   "execution_count": 38,
   "id": "136ec068-9790-45a3-9dda-ccba421e4965",
   "metadata": {},
   "outputs": [
    {
     "data": {
      "text/html": [
       "<div>\n",
       "<style scoped>\n",
       "    .dataframe tbody tr th:only-of-type {\n",
       "        vertical-align: middle;\n",
       "    }\n",
       "\n",
       "    .dataframe tbody tr th {\n",
       "        vertical-align: top;\n",
       "    }\n",
       "\n",
       "    .dataframe thead th {\n",
       "        text-align: right;\n",
       "    }\n",
       "</style>\n",
       "<table border=\"1\" class=\"dataframe\">\n",
       "  <thead>\n",
       "    <tr style=\"text-align: right;\">\n",
       "      <th></th>\n",
       "      <th>name</th>\n",
       "      <th>arrival date</th>\n",
       "      <th>age when adopted</th>\n",
       "      <th>weight in kg</th>\n",
       "      <th>adoption date</th>\n",
       "      <th>returned</th>\n",
       "      <th>date of return</th>\n",
       "      <th>breed</th>\n",
       "      <th>gender</th>\n",
       "      <th>black fur</th>\n",
       "    </tr>\n",
       "  </thead>\n",
       "  <tbody>\n",
       "    <tr>\n",
       "      <th>166</th>\n",
       "      <td>Rozmaryn</td>\n",
       "      <td>24.05.2023</td>\n",
       "      <td>6.0</td>\n",
       "      <td>0</td>\n",
       "      <td>11.07.2023</td>\n",
       "      <td>FALSE</td>\n",
       "      <td>NaN</td>\n",
       "      <td>mix-breed</td>\n",
       "      <td>male</td>\n",
       "      <td>False</td>\n",
       "    </tr>\n",
       "    <tr>\n",
       "      <th>246</th>\n",
       "      <td>Lorka</td>\n",
       "      <td>26.12.2022</td>\n",
       "      <td>4.0</td>\n",
       "      <td>0</td>\n",
       "      <td>23.02.2023</td>\n",
       "      <td>FALSE</td>\n",
       "      <td>NaN</td>\n",
       "      <td>Pekingese</td>\n",
       "      <td>female</td>\n",
       "      <td>False</td>\n",
       "    </tr>\n",
       "  </tbody>\n",
       "</table>\n",
       "</div>"
      ],
      "text/plain": [
       "         name arrival date  age when adopted weight in kg adoption date  \\\n",
       "166  Rozmaryn   24.05.2023               6.0            0    11.07.2023   \n",
       "246     Lorka   26.12.2022               4.0            0    23.02.2023   \n",
       "\n",
       "    returned date of return      breed  gender black fur  \n",
       "166    FALSE            NaN  mix-breed    male     False  \n",
       "246    FALSE            NaN  Pekingese  female     False  "
      ]
     },
     "execution_count": 38,
     "metadata": {},
     "output_type": "execute_result"
    }
   ],
   "source": [
    "df[df['weight in kg'] == '0']"
   ]
  },
  {
   "cell_type": "code",
   "execution_count": 40,
   "id": "f8450fd1-8587-4d58-a056-4f0e8e39e774",
   "metadata": {},
   "outputs": [],
   "source": [
    "# Let's drop these rows\n",
    "df = df[~(df['weight in kg'] == '0')]"
   ]
  },
  {
   "cell_type": "markdown",
   "id": "bab58e33-f53e-4586-9220-81d6db011094",
   "metadata": {},
   "source": [
    "#### age when adopted"
   ]
  },
  {
   "cell_type": "code",
   "execution_count": 43,
   "id": "316b0a0e-6027-4f75-be68-e0376034902f",
   "metadata": {},
   "outputs": [
    {
     "data": {
      "text/html": [
       "<div>\n",
       "<style scoped>\n",
       "    .dataframe tbody tr th:only-of-type {\n",
       "        vertical-align: middle;\n",
       "    }\n",
       "\n",
       "    .dataframe tbody tr th {\n",
       "        vertical-align: top;\n",
       "    }\n",
       "\n",
       "    .dataframe thead th {\n",
       "        text-align: right;\n",
       "    }\n",
       "</style>\n",
       "<table border=\"1\" class=\"dataframe\">\n",
       "  <thead>\n",
       "    <tr style=\"text-align: right;\">\n",
       "      <th></th>\n",
       "      <th>name</th>\n",
       "      <th>arrival date</th>\n",
       "      <th>age when adopted</th>\n",
       "      <th>weight in kg</th>\n",
       "      <th>adoption date</th>\n",
       "      <th>returned</th>\n",
       "      <th>date of return</th>\n",
       "      <th>breed</th>\n",
       "      <th>gender</th>\n",
       "      <th>black fur</th>\n",
       "    </tr>\n",
       "  </thead>\n",
       "  <tbody>\n",
       "    <tr>\n",
       "      <th>561</th>\n",
       "      <td>Szostu</td>\n",
       "      <td>27.07.2019</td>\n",
       "      <td>0.0</td>\n",
       "      <td>12</td>\n",
       "      <td>03.11.2019</td>\n",
       "      <td>FALSE</td>\n",
       "      <td>NaN</td>\n",
       "      <td>mix-breed</td>\n",
       "      <td>male</td>\n",
       "      <td>False</td>\n",
       "    </tr>\n",
       "    <tr>\n",
       "      <th>590</th>\n",
       "      <td>Arbuz</td>\n",
       "      <td>23.05.2019</td>\n",
       "      <td>0.0</td>\n",
       "      <td>9</td>\n",
       "      <td>06.07.2019</td>\n",
       "      <td>FALSE</td>\n",
       "      <td>NaN</td>\n",
       "      <td>mix-breed</td>\n",
       "      <td>male</td>\n",
       "      <td>True</td>\n",
       "    </tr>\n",
       "    <tr>\n",
       "      <th>624</th>\n",
       "      <td>Ginger</td>\n",
       "      <td>01.01.2019</td>\n",
       "      <td>0.0</td>\n",
       "      <td>8</td>\n",
       "      <td>08.02.2019</td>\n",
       "      <td>FALSE</td>\n",
       "      <td>NaN</td>\n",
       "      <td>mix-breed</td>\n",
       "      <td>female</td>\n",
       "      <td>False</td>\n",
       "    </tr>\n",
       "    <tr>\n",
       "      <th>668</th>\n",
       "      <td>Nox</td>\n",
       "      <td>30.06.2018</td>\n",
       "      <td>0.0</td>\n",
       "      <td>19</td>\n",
       "      <td>04.08.2018</td>\n",
       "      <td>FALSE</td>\n",
       "      <td>NaN</td>\n",
       "      <td>mix-breed</td>\n",
       "      <td>female</td>\n",
       "      <td>True</td>\n",
       "    </tr>\n",
       "    <tr>\n",
       "      <th>674</th>\n",
       "      <td>Olaf</td>\n",
       "      <td>04.06.2018</td>\n",
       "      <td>0.0</td>\n",
       "      <td>7</td>\n",
       "      <td>13.07.2018</td>\n",
       "      <td>FALSE</td>\n",
       "      <td>NaN</td>\n",
       "      <td>mix-breed</td>\n",
       "      <td>male</td>\n",
       "      <td>True</td>\n",
       "    </tr>\n",
       "  </tbody>\n",
       "</table>\n",
       "</div>"
      ],
      "text/plain": [
       "       name arrival date  age when adopted weight in kg adoption date  \\\n",
       "561  Szostu   27.07.2019               0.0           12    03.11.2019   \n",
       "590   Arbuz   23.05.2019               0.0            9    06.07.2019   \n",
       "624  Ginger   01.01.2019               0.0            8    08.02.2019   \n",
       "668     Nox   30.06.2018               0.0           19    04.08.2018   \n",
       "674    Olaf   04.06.2018               0.0            7    13.07.2018   \n",
       "\n",
       "    returned date of return      breed  gender black fur  \n",
       "561    FALSE            NaN  mix-breed    male     False  \n",
       "590    FALSE            NaN  mix-breed    male      True  \n",
       "624    FALSE            NaN  mix-breed  female     False  \n",
       "668    FALSE            NaN  mix-breed  female      True  \n",
       "674    FALSE            NaN  mix-breed    male      True  "
      ]
     },
     "execution_count": 43,
     "metadata": {},
     "output_type": "execute_result"
    }
   ],
   "source": [
    "df[df['age when adopted'] == 0]"
   ]
  },
  {
   "cell_type": "code",
   "execution_count": 45,
   "id": "d3eaa2f3-4ad1-42ba-9df4-1fedcbfc96b8",
   "metadata": {},
   "outputs": [],
   "source": [
    "# Let's fill those rows out with mean as we did with missing values previously\n",
    "df.loc[df['age when adopted'] == 0, 'age when adopted'] = mean_age.round(1)"
   ]
  },
  {
   "cell_type": "markdown",
   "id": "2e368c61-2e4b-4c88-93df-4586dca714e1",
   "metadata": {},
   "source": [
    "# Transforming data"
   ]
  },
  {
   "cell_type": "markdown",
   "id": "ff4afe3a-a97b-484f-b395-3745edb84a99",
   "metadata": {},
   "source": [
    "#### black fur"
   ]
  },
  {
   "cell_type": "code",
   "execution_count": 49,
   "id": "57853608-a6c1-42d8-aa19-881e5b765f66",
   "metadata": {},
   "outputs": [],
   "source": [
    "# Let's change the data type to categorical: 1=black fur, 0=other color\n",
    "df['black fur'] =df['black fur'].astype(int)"
   ]
  },
  {
   "cell_type": "markdown",
   "id": "2987e5af-1c2f-413c-a761-4fdacaf8868b",
   "metadata": {},
   "source": [
    "#### weight in kg"
   ]
  },
  {
   "cell_type": "code",
   "execution_count": 52,
   "id": "531b014a-bf16-4e8f-9537-b7e51df18248",
   "metadata": {},
   "outputs": [],
   "source": [
    "# Let's change the data type to float as well as change the separator\n",
    "df['weight in kg'] = df['weight in kg'].astype(str).str.replace(',', '.').astype(float)"
   ]
  },
  {
   "cell_type": "markdown",
   "id": "d408ae73-9f72-477c-bfa9-be0e43c37beb",
   "metadata": {},
   "source": [
    "#### breed"
   ]
  },
  {
   "cell_type": "code",
   "execution_count": 55,
   "id": "5e8da863-0415-487c-b7f8-99d483e1be5d",
   "metadata": {},
   "outputs": [
    {
     "data": {
      "text/plain": [
       "breed\n",
       "mix-breed                      622\n",
       "German Shepherd                  9\n",
       "Yorkshire Terrier                9\n",
       "Fox Terrier                      4\n",
       "Dachshund                        3\n",
       "Shih Tzu                         3\n",
       "Pinscher                         3\n",
       "Beagle                           3\n",
       "Caucasian Shepherd Dog           2\n",
       "Maltese                          2\n",
       "Jagdterrier                      2\n",
       "Welsh Terrier                    2\n",
       "Schnauzer                        2\n",
       "Terier                           2\n",
       "English Cocker Spaniel           2\n",
       "Lhasa Apso                       1\n",
       "Poodle                           1\n",
       "Tatra Shepherd Dog               1\n",
       "Bavarian Mountain Hound          1\n",
       "Spaniel                          1\n",
       "West Highland White Terrier      1\n",
       "Pekingese                        1\n",
       "Greyhound                        1\n",
       "Boxer                            1\n",
       "St. Bernard                      1\n",
       "Pit Bull                         1\n",
       "Amstaff                          1\n",
       "Moscow Watchdog                  1\n",
       "Labrador                         1\n",
       "Name: count, dtype: int64"
      ]
     },
     "execution_count": 55,
     "metadata": {},
     "output_type": "execute_result"
    }
   ],
   "source": [
    "df['breed'].value_counts()"
   ]
  },
  {
   "cell_type": "code",
   "execution_count": 57,
   "id": "475fbc91-b93f-4fda-b576-6f800ef3785a",
   "metadata": {},
   "outputs": [],
   "source": [
    "# In my opinion, for the data analysis, it is not so important what exact breed a dog is, but whether it is a purebred or not. \n",
    "# Therefore, let's create a new categorical column which will indicate whether the dog is purebred or not.\n",
    "df['purebred'] = (df['breed'] != 'mix-breed').astype(bool)\n",
    "\n",
    "# One-hot encoding needed for later analysis.\n",
    "df['purebred']=df['purebred'].astype(int)\n",
    "\n",
    "# Now we can drop the 'breed' column. \n",
    "df = df.drop('breed', axis=1)"
   ]
  },
  {
   "cell_type": "markdown",
   "id": "1addeb81-add9-4ca2-8b46-c66139cca3bb",
   "metadata": {},
   "source": [
    "#### returned"
   ]
  },
  {
   "cell_type": "code",
   "execution_count": 60,
   "id": "49afb20b-cda0-48f1-9e69-eaad4aa93cfa",
   "metadata": {
    "scrolled": true
   },
   "outputs": [],
   "source": [
    "# Let's change the data type to boolean.\n",
    "df['returned'] = (df['returned'] != 'FALSE').astype(bool)\n",
    "\n",
    "# One-hot encoding for standarization purposes: 1=dog was returned, 0=dog wasn't returned\n",
    "df['returned'] = df['returned'].astype(int)"
   ]
  },
  {
   "cell_type": "markdown",
   "id": "854a8ba7-e98b-452f-a5c2-5f4ce9bc7014",
   "metadata": {},
   "source": [
    "### gender"
   ]
  },
  {
   "cell_type": "code",
   "execution_count": 63,
   "id": "01a3453b-935a-4fec-a2fa-29ab07cbd029",
   "metadata": {},
   "outputs": [],
   "source": [
    "# One-hot encoding needed for later analysis: 1=male dog, 0=female dog\n",
    "df['male'] = (df['gender'] != 'female').astype(bool)\n",
    "df['male']=df['male'].astype(int)\n",
    "\n",
    "# Now we can drop the 'gender' column. \n",
    "df = df.drop('gender', axis=1)"
   ]
  },
  {
   "cell_type": "markdown",
   "id": "f2d0b52f-73a2-4b25-a0bd-3bd7969f5ef2",
   "metadata": {},
   "source": [
    "#### date of return"
   ]
  },
  {
   "cell_type": "code",
   "execution_count": 66,
   "id": "7576f9bd-3108-4905-b5b1-072d7567cbaf",
   "metadata": {},
   "outputs": [],
   "source": [
    "# Let's change the data type to datetime\n",
    "df['date of return'] = pd.to_datetime(df['date of return'], format='%d.%m.%Y')"
   ]
  },
  {
   "cell_type": "markdown",
   "id": "6881beb9-86ba-4bbc-9f96-a644a832df23",
   "metadata": {},
   "source": [
    "#### 'days in shelter' - new column"
   ]
  },
  {
   "cell_type": "code",
   "execution_count": 69,
   "id": "49c07e5a-375b-406e-b08a-9d5ddf6d946a",
   "metadata": {},
   "outputs": [],
   "source": [
    "# Let's create a new column indicating how many days the dog spent in the shelter. \n",
    "# First let's change the data type of 'arrival date' and 'adoption date' to datetime\n",
    "df['arrival date'] = pd.to_datetime(df['arrival date'], format='%d.%m.%Y')\n",
    "df['adoption date'] = pd.to_datetime(df['adoption date'], format='%d.%m.%Y')"
   ]
  },
  {
   "cell_type": "code",
   "execution_count": 71,
   "id": "044bef62-3d8d-4dfd-99bb-0984301a75d2",
   "metadata": {},
   "outputs": [
    {
     "data": {
      "text/html": [
       "<div>\n",
       "<style scoped>\n",
       "    .dataframe tbody tr th:only-of-type {\n",
       "        vertical-align: middle;\n",
       "    }\n",
       "\n",
       "    .dataframe tbody tr th {\n",
       "        vertical-align: top;\n",
       "    }\n",
       "\n",
       "    .dataframe thead th {\n",
       "        text-align: right;\n",
       "    }\n",
       "</style>\n",
       "<table border=\"1\" class=\"dataframe\">\n",
       "  <thead>\n",
       "    <tr style=\"text-align: right;\">\n",
       "      <th></th>\n",
       "      <th>name</th>\n",
       "      <th>arrival date</th>\n",
       "      <th>age when adopted</th>\n",
       "      <th>weight in kg</th>\n",
       "      <th>adoption date</th>\n",
       "      <th>returned</th>\n",
       "      <th>date of return</th>\n",
       "      <th>black fur</th>\n",
       "      <th>purebred</th>\n",
       "      <th>male</th>\n",
       "      <th>days in shelter</th>\n",
       "    </tr>\n",
       "  </thead>\n",
       "  <tbody>\n",
       "    <tr>\n",
       "      <th>0</th>\n",
       "      <td>Bruno</td>\n",
       "      <td>2024-01-13</td>\n",
       "      <td>4.0</td>\n",
       "      <td>27.5</td>\n",
       "      <td>2025-04-30</td>\n",
       "      <td>0</td>\n",
       "      <td>NaT</td>\n",
       "      <td>0</td>\n",
       "      <td>0</td>\n",
       "      <td>1</td>\n",
       "      <td>473</td>\n",
       "    </tr>\n",
       "    <tr>\n",
       "      <th>1</th>\n",
       "      <td>Tofino</td>\n",
       "      <td>2025-03-24</td>\n",
       "      <td>0.8</td>\n",
       "      <td>15.0</td>\n",
       "      <td>2025-04-29</td>\n",
       "      <td>0</td>\n",
       "      <td>NaT</td>\n",
       "      <td>1</td>\n",
       "      <td>0</td>\n",
       "      <td>1</td>\n",
       "      <td>36</td>\n",
       "    </tr>\n",
       "    <tr>\n",
       "      <th>2</th>\n",
       "      <td>Asai</td>\n",
       "      <td>2025-02-22</td>\n",
       "      <td>1.0</td>\n",
       "      <td>10.0</td>\n",
       "      <td>2025-04-15</td>\n",
       "      <td>0</td>\n",
       "      <td>NaT</td>\n",
       "      <td>1</td>\n",
       "      <td>0</td>\n",
       "      <td>1</td>\n",
       "      <td>52</td>\n",
       "    </tr>\n",
       "    <tr>\n",
       "      <th>3</th>\n",
       "      <td>Vega</td>\n",
       "      <td>2023-12-08</td>\n",
       "      <td>4.0</td>\n",
       "      <td>39.0</td>\n",
       "      <td>2025-04-14</td>\n",
       "      <td>0</td>\n",
       "      <td>NaT</td>\n",
       "      <td>0</td>\n",
       "      <td>1</td>\n",
       "      <td>0</td>\n",
       "      <td>493</td>\n",
       "    </tr>\n",
       "    <tr>\n",
       "      <th>4</th>\n",
       "      <td>Zarina</td>\n",
       "      <td>2024-08-05</td>\n",
       "      <td>8.0</td>\n",
       "      <td>36.0</td>\n",
       "      <td>2025-04-07</td>\n",
       "      <td>0</td>\n",
       "      <td>NaT</td>\n",
       "      <td>0</td>\n",
       "      <td>0</td>\n",
       "      <td>0</td>\n",
       "      <td>245</td>\n",
       "    </tr>\n",
       "  </tbody>\n",
       "</table>\n",
       "</div>"
      ],
      "text/plain": [
       "     name arrival date  age when adopted  weight in kg adoption date  \\\n",
       "0   Bruno   2024-01-13               4.0          27.5    2025-04-30   \n",
       "1  Tofino   2025-03-24               0.8          15.0    2025-04-29   \n",
       "2    Asai   2025-02-22               1.0          10.0    2025-04-15   \n",
       "3    Vega   2023-12-08               4.0          39.0    2025-04-14   \n",
       "4  Zarina   2024-08-05               8.0          36.0    2025-04-07   \n",
       "\n",
       "   returned date of return  black fur  purebred  male  days in shelter  \n",
       "0         0            NaT          0         0     1              473  \n",
       "1         0            NaT          1         0     1               36  \n",
       "2         0            NaT          1         0     1               52  \n",
       "3         0            NaT          0         1     0              493  \n",
       "4         0            NaT          0         0     0              245  "
      ]
     },
     "execution_count": 71,
     "metadata": {},
     "output_type": "execute_result"
    }
   ],
   "source": [
    "# Now we can create the new column 'days in shelter'\n",
    "df['days in shelter'] = (df['adoption date'] - df['arrival date']).dt.days\n",
    "df.head()"
   ]
  },
  {
   "cell_type": "markdown",
   "id": "5b02c557-b127-4fc8-a3ce-dddef53fe82a",
   "metadata": {},
   "source": [
    "# Detecting outliers"
   ]
  },
  {
   "cell_type": "code",
   "execution_count": 74,
   "id": "73040972-f836-4904-8885-2ac3ad31c66a",
   "metadata": {},
   "outputs": [
    {
     "data": {
      "text/html": [
       "<div>\n",
       "<style scoped>\n",
       "    .dataframe tbody tr th:only-of-type {\n",
       "        vertical-align: middle;\n",
       "    }\n",
       "\n",
       "    .dataframe tbody tr th {\n",
       "        vertical-align: top;\n",
       "    }\n",
       "\n",
       "    .dataframe thead th {\n",
       "        text-align: right;\n",
       "    }\n",
       "</style>\n",
       "<table border=\"1\" class=\"dataframe\">\n",
       "  <thead>\n",
       "    <tr style=\"text-align: right;\">\n",
       "      <th></th>\n",
       "      <th>age when adopted</th>\n",
       "      <th>weight in kg</th>\n",
       "      <th>days in shelter</th>\n",
       "    </tr>\n",
       "  </thead>\n",
       "  <tbody>\n",
       "    <tr>\n",
       "      <th>count</th>\n",
       "      <td>684.0</td>\n",
       "      <td>684.0</td>\n",
       "      <td>684.0</td>\n",
       "    </tr>\n",
       "    <tr>\n",
       "      <th>mean</th>\n",
       "      <td>3.1</td>\n",
       "      <td>13.7</td>\n",
       "      <td>91.2</td>\n",
       "    </tr>\n",
       "    <tr>\n",
       "      <th>std</th>\n",
       "      <td>2.6</td>\n",
       "      <td>7.4</td>\n",
       "      <td>160.5</td>\n",
       "    </tr>\n",
       "    <tr>\n",
       "      <th>min</th>\n",
       "      <td>0.2</td>\n",
       "      <td>3.0</td>\n",
       "      <td>7.0</td>\n",
       "    </tr>\n",
       "    <tr>\n",
       "      <th>25%</th>\n",
       "      <td>1.0</td>\n",
       "      <td>9.0</td>\n",
       "      <td>38.0</td>\n",
       "    </tr>\n",
       "    <tr>\n",
       "      <th>50%</th>\n",
       "      <td>2.0</td>\n",
       "      <td>12.0</td>\n",
       "      <td>53.5</td>\n",
       "    </tr>\n",
       "    <tr>\n",
       "      <th>75%</th>\n",
       "      <td>4.2</td>\n",
       "      <td>16.0</td>\n",
       "      <td>85.2</td>\n",
       "    </tr>\n",
       "    <tr>\n",
       "      <th>max</th>\n",
       "      <td>13.0</td>\n",
       "      <td>60.0</td>\n",
       "      <td>2850.0</td>\n",
       "    </tr>\n",
       "  </tbody>\n",
       "</table>\n",
       "</div>"
      ],
      "text/plain": [
       "       age when adopted  weight in kg  days in shelter\n",
       "count             684.0         684.0            684.0\n",
       "mean                3.1          13.7             91.2\n",
       "std                 2.6           7.4            160.5\n",
       "min                 0.2           3.0              7.0\n",
       "25%                 1.0           9.0             38.0\n",
       "50%                 2.0          12.0             53.5\n",
       "75%                 4.2          16.0             85.2\n",
       "max                13.0          60.0           2850.0"
      ]
     },
     "execution_count": 74,
     "metadata": {},
     "output_type": "execute_result"
    }
   ],
   "source": [
    "df.iloc[:, [2, 3, 10]].describe().round(1)"
   ]
  },
  {
   "cell_type": "code",
   "execution_count": 76,
   "id": "0eefc506-1fa7-4fac-b655-7c55c6e93852",
   "metadata": {},
   "outputs": [
    {
     "data": {
      "text/html": [
       "<div>\n",
       "<style scoped>\n",
       "    .dataframe tbody tr th:only-of-type {\n",
       "        vertical-align: middle;\n",
       "    }\n",
       "\n",
       "    .dataframe tbody tr th {\n",
       "        vertical-align: top;\n",
       "    }\n",
       "\n",
       "    .dataframe thead th {\n",
       "        text-align: right;\n",
       "    }\n",
       "</style>\n",
       "<table border=\"1\" class=\"dataframe\">\n",
       "  <thead>\n",
       "    <tr style=\"text-align: right;\">\n",
       "      <th></th>\n",
       "      <th>name</th>\n",
       "      <th>arrival date</th>\n",
       "      <th>age when adopted</th>\n",
       "      <th>weight in kg</th>\n",
       "      <th>adoption date</th>\n",
       "      <th>returned</th>\n",
       "      <th>date of return</th>\n",
       "      <th>black fur</th>\n",
       "      <th>purebred</th>\n",
       "      <th>male</th>\n",
       "      <th>days in shelter</th>\n",
       "    </tr>\n",
       "  </thead>\n",
       "  <tbody>\n",
       "    <tr>\n",
       "      <th>683</th>\n",
       "      <td>Bambi</td>\n",
       "      <td>2010-08-25</td>\n",
       "      <td>7.0</td>\n",
       "      <td>26.0</td>\n",
       "      <td>2018-06-14</td>\n",
       "      <td>0</td>\n",
       "      <td>NaT</td>\n",
       "      <td>1</td>\n",
       "      <td>0</td>\n",
       "      <td>1</td>\n",
       "      <td>2850</td>\n",
       "    </tr>\n",
       "  </tbody>\n",
       "</table>\n",
       "</div>"
      ],
      "text/plain": [
       "      name arrival date  age when adopted  weight in kg adoption date  \\\n",
       "683  Bambi   2010-08-25               7.0          26.0    2018-06-14   \n",
       "\n",
       "     returned date of return  black fur  purebred  male  days in shelter  \n",
       "683         0            NaT          1         0     1             2850  "
      ]
     },
     "execution_count": 76,
     "metadata": {},
     "output_type": "execute_result"
    }
   ],
   "source": [
    "# The longest time spent in the shelter is 2850 ~ almost 8 years. Let's find out which dog it is. \n",
    "df[df['days in shelter'] == 2850]"
   ]
  },
  {
   "cell_type": "code",
   "execution_count": 78,
   "id": "439a4419-689c-4a7b-bd19-1fd4cbc38907",
   "metadata": {},
   "outputs": [
    {
     "name": "stdout",
     "output_type": "stream",
     "text": [
      "6 outliers were found (Z-score):\n",
      "        name arrival date  age when adopted  weight in kg adoption date  \\\n",
      "40      Rico   2020-07-24               4.0          60.0    2024-05-26   \n",
      "341  Klemens   2020-11-03               4.0          19.0    2022-08-30   \n",
      "644    Monte   2016-09-04               3.0          24.0    2018-10-28   \n",
      "683    Bambi   2010-08-25               7.0          26.0    2018-06-14   \n",
      "700    Parys   2013-09-20               7.0          15.0    2018-04-20   \n",
      "708  Chrupek   2016-05-09              12.0          29.0    2018-02-18   \n",
      "\n",
      "     returned date of return  black fur  purebred  male  days in shelter  \\\n",
      "40          0            NaT          1         1     1             1402   \n",
      "341         0            NaT          0         0     1              665   \n",
      "644         0            NaT          1         0     1              784   \n",
      "683         0            NaT          1         0     1             2850   \n",
      "700         0            NaT          0         0     1             1673   \n",
      "708         0            NaT          0         0     1              650   \n",
      "\n",
      "       z_score  \n",
      "40    8.174036  \n",
      "341   3.578295  \n",
      "644   4.320348  \n",
      "683  17.203391  \n",
      "700   9.863922  \n",
      "708   3.484759  \n"
     ]
    }
   ],
   "source": [
    "# Looking at the standard deviation we may consider this one as an outlier. Let's check if there are more outliers in the dataset with the z-score method.\n",
    "# Counting z-score\n",
    "df['z_score'] = zscore(df['days in shelter'])\n",
    "\n",
    "# Detecting outliers for absolute value of z-score bigger than 3\n",
    "outliers_z = df[abs(df['z_score']) > 3]\n",
    "\n",
    "# Printing the results\n",
    "print(f'{len(outliers_z)} outliers were found (Z-score):')\n",
    "print(outliers_z)\n"
   ]
  },
  {
   "cell_type": "code",
   "execution_count": 80,
   "id": "8a78b0ba-76f6-4979-ab56-3c1022dcf0d3",
   "metadata": {},
   "outputs": [],
   "source": [
    "# It's a hard decision what to do with these outliers. I know that they are not wrong and these dogs have actually\n",
    "# spent such a long time in the shelter. However, in case of our quite small dataset I believe they may heavily affect the analysis.\n",
    "# Let's drop them.\n",
    "df = df[abs(df['z_score']) <= 3]\n",
    "df = df.drop('z_score', axis=1)"
   ]
  },
  {
   "cell_type": "code",
   "execution_count": 82,
   "id": "838e7c81-bde7-403b-a165-7770ecfeecd2",
   "metadata": {},
   "outputs": [
    {
     "data": {
      "text/plain": [
       "(678, 11)"
      ]
     },
     "execution_count": 82,
     "metadata": {},
     "output_type": "execute_result"
    }
   ],
   "source": [
    "df.shape\n",
    "# We have 678 observations now and we can begin the data analysis. "
   ]
  },
  {
   "cell_type": "markdown",
   "id": "902bf715-e640-45ad-9fe9-e469f7b623e8",
   "metadata": {},
   "source": [
    "# Data analysis"
   ]
  },
  {
   "cell_type": "markdown",
   "id": "fc746dfc-d320-469e-a9f0-1e223ac90abe",
   "metadata": {},
   "source": [
    "# Correlation between several variables"
   ]
  },
  {
   "cell_type": "code",
   "execution_count": 86,
   "id": "2d8428ea-b78a-477a-b9df-f859f98e3d33",
   "metadata": {},
   "outputs": [
    {
     "data": {
      "image/png": "[encoded data removed]",
      "text/plain": [
       "<Figure size 1200x800 with 2 Axes>"
      ]
     },
     "metadata": {},
     "output_type": "display_data"
    }
   ],
   "source": [
    "# Let's create a heatmap to see what is the exact correlation between chosen variables\n",
    "pp_df = df[['age when adopted','days in shelter', 'weight in kg']]\n",
    "corr = pp_df.corr()\n",
    "plt.figure(figsize = (12,8))\n",
    "sns.heatmap(corr, annot=True, fmt=\".2f\");"
   ]
  },
  {
   "cell_type": "code",
   "execution_count": 87,
   "id": "cc26b4a0-7def-44b9-9799-d9a83cdcc1e0",
   "metadata": {},
   "outputs": [],
   "source": [
    "# A moderate correlation is visible between 'days in shelter' and 'weight in kg' (0.45). \n",
    "# On the other hand, we can observe a weak correlation between 'days in shelter' and '\"age when adopted\" (0.29).\n",
    "# We will laser in on these correlation later on in the regression analysis. "
   ]
  },
  {
   "cell_type": "markdown",
   "id": "3f29c091-98c5-4378-8c02-976015100de1",
   "metadata": {},
   "source": [
    "## Adoption trends"
   ]
  },
  {
   "cell_type": "code",
   "execution_count": 95,
   "id": "8f09a9ca-78e2-4410-8c48-583743e0b854",
   "metadata": {},
   "outputs": [
    {
     "data": {
      "image/png": "[encoded data removed]",
      "text/plain": [
       "<Figure size 1000x500 with 1 Axes>"
      ]
     },
     "metadata": {},
     "output_type": "display_data"
    }
   ],
   "source": [
    "# Number of adoptions in the period of 2018-2024 (excluding 2025 since it's the current year so the number of adoptions will be small obviously)\n",
    "df['adoption year'] = df['adoption date'].dt.year\n",
    "plt.figure(figsize=(10, 5))\n",
    "sns.countplot(data=df[df['adoption year'] < 2025], x='adoption year', palette='coolwarm', hue='adoption year', legend = False)\n",
    "plt.title('Number of dog adoptions by year')\n",
    "plt.xlabel('Year of adoption')\n",
    "plt.ylabel('Number of adoption')\n",
    "plt.show()\n"
   ]
  },
  {
   "cell_type": "code",
   "execution_count": 97,
   "id": "95e46bcf-6627-49a7-a0e1-6bcbb611fdb2",
   "metadata": {},
   "outputs": [],
   "source": [
    "# 2023 is definitely the winner in the number of adoptions, almost 200! "
   ]
  },
  {
   "cell_type": "code",
   "execution_count": 99,
   "id": "25264235-494f-468d-824c-23015eddf3e6",
   "metadata": {},
   "outputs": [
    {
     "data": {
      "image/png": "[encoded data removed]",
      "text/plain": [
       "<Figure size 1150x500 with 1 Axes>"
      ]
     },
     "metadata": {},
     "output_type": "display_data"
    }
   ],
   "source": [
    "# Seasonality of adoptions - number of adoptions by month\n",
    "df['adoption month'] = df['adoption date'].dt.month\n",
    "plt.figure(figsize=(11.5, 5))\n",
    "sns.countplot(data=df, x='adoption month', hue='adoption month', legend=False)\n",
    "plt.title('Number of adoptions by month')\n",
    "plt.xlabel('Month')\n",
    "plt.ylabel('Number of adoptions')\n",
    "plt.xticks(range(0, 12), ['January', 'February', 'March', 'April', 'May', 'June', 'July', 'August', 'September', 'October', 'November', 'December'])\n",
    "plt.show()"
   ]
  },
  {
   "cell_type": "code",
   "execution_count": 101,
   "id": "a0012a76-3352-499f-b15d-674228b4be85",
   "metadata": {},
   "outputs": [],
   "source": [
    "# There is a noticeable drop in adoptions during the summer holiday season. Since many people travel during this time, they may hesitate \n",
    "# to adopt a dog only to leave shortly after. As a result, the decision to adopt is likely postponed to the following months."
   ]
  },
  {
   "cell_type": "code",
   "execution_count": 103,
   "id": "70268e42-70ea-4584-92b1-09e7dfbc668a",
   "metadata": {
    "scrolled": true
   },
   "outputs": [
    {
     "data": {
      "image/png": "[encoded data removed]",
      "text/plain": [
       "<Figure size 1000x500 with 1 Axes>"
      ]
     },
     "metadata": {},
     "output_type": "display_data"
    }
   ],
   "source": [
    "# Counting returns percentage (icncludes only dogs adopted and returned in the same year); excluding 2025\n",
    "returns_per_year = (\n",
    "    df.groupby('adoption year', observed=True)['returned']\n",
    "    .agg(lambda x: x.sum() / len(x) * 100)\n",
    ")\n",
    "\n",
    "returns_per_year_filtered = returns_per_year[returns_per_year.index < 2025]\n",
    "\n",
    "plt.figure(figsize=(10, 5))\n",
    "sns.lineplot(x=returns_per_year_filtered.index, y=returns_per_year_filtered.values, marker='o', color='red')\n",
    "plt.title('Adoption return rate by year')\n",
    "plt.xlabel('Adoption year')\n",
    "plt.ylabel('Adoption return rate')\n",
    "plt.show()"
   ]
  },
  {
   "cell_type": "code",
   "execution_count": 3697,
   "id": "65ae189d-0c25-4c90-8cdb-549fed4acdef",
   "metadata": {},
   "outputs": [],
   "source": [
    "# Although 2023 is the year in which the most dog got adopted, the return rate is not the highest. The highest adoption return rate\n",
    "# can be observed in 2024 (almost 10%), the lowest in 2021. "
   ]
  },
  {
   "cell_type": "markdown",
   "id": "a7aa1836-6469-42e8-a62d-ad848950fb55",
   "metadata": {},
   "source": [
    "# Distribution of days spent in the shelter"
   ]
  },
  {
   "cell_type": "code",
   "execution_count": 105,
   "id": "269ff28b-2fe9-42ed-b9c1-b39375ead6ad",
   "metadata": {},
   "outputs": [
    {
     "data": {
      "image/png": "[encoded data removed]",
      "text/plain": [
       "<Figure size 800x600 with 1 Axes>"
      ]
     },
     "metadata": {},
     "output_type": "display_data"
    }
   ],
   "source": [
    "#  Let's create a histogram to see the distribution of days spent in the shelter\n",
    "plt.figure(figsize=(8, 6))\n",
    "sns.histplot(df['days in shelter'], bins=20, color='skyblue')\n",
    "plt.xlabel('Number of days spent in the shelter')\n",
    "plt.ylabel('Number of dogs')\n",
    "plt.title('Distribution of days spent in the shelter')\n",
    "plt.show()"
   ]
  },
  {
   "cell_type": "code",
   "execution_count": 107,
   "id": "44e32cf4-f546-44dd-8453-12db033b7b8e",
   "metadata": {},
   "outputs": [],
   "source": [
    "# A right-skewed distribution can be observed - most of the dogs spent up to 100 days in the shelter before being adopted. \n",
    "# There are few long-term stays – there is a small number of cases where dogs stay in the shelter for several hundred days."
   ]
  },
  {
   "cell_type": "markdown",
   "id": "2ea672ab-79e5-4e3c-b411-3e6e6518a77f",
   "metadata": {},
   "source": [
    "## Weight analysis"
   ]
  },
  {
   "cell_type": "code",
   "execution_count": 110,
   "id": "a0dcf48a-b0da-4c2e-834e-4f42dc918529",
   "metadata": {},
   "outputs": [
    {
     "data": {
      "image/png": "[encoded data removed]",
      "text/plain": [
       "<Figure size 800x600 with 1 Axes>"
      ]
     },
     "metadata": {},
     "output_type": "display_data"
    }
   ],
   "source": [
    "# Let's create a histogram to see the distribution of weight in kg (in intervals of 10kg).\n",
    "weight_bins = [1, 10, 20, 30, 40, 50, 60] \n",
    "weight_labels = ['1-10', '11-20', '21-30', '31-40', '41-50', '51-60']\n",
    "adopted_count = pd.cut(df['weight in kg'], bins=weight_bins, labels=weight_labels, right=True).value_counts().sort_index()\n",
    "plt.figure(figsize=(8, 6))\n",
    "adopted_count.plot(kind='bar', color='lightblue', edgecolor='black')\n",
    "plt.title('Distribution of weight')\n",
    "plt.xlabel('Weight (kg)')\n",
    "plt.ylabel('Number of dogs')\n",
    "plt.xticks(rotation=45)\n",
    "plt.tight_layout()\n",
    "\n",
    "plt.show()"
   ]
  },
  {
   "cell_type": "code",
   "execution_count": 112,
   "id": "c3dbbe3b-5351-4526-9049-ebc04c8dfbaa",
   "metadata": {},
   "outputs": [],
   "source": [
    "# Most of the adopted dogs are in the lower weight ranges (1-10kg and 11-20kg) so rather small and medium-sized ones. The number of dogs in other\n",
    "# weight categories drops significantly. "
   ]
  },
  {
   "cell_type": "code",
   "execution_count": 114,
   "id": "62a2fb50-2be9-41c1-9592-86fdf3016d2f",
   "metadata": {},
   "outputs": [
    {
     "data": {
      "text/plain": [
       "weight_group\n",
       "1-10      49.0\n",
       "11-20     88.0\n",
       "21-30    127.0\n",
       "31-40    179.0\n",
       "41-50    379.0\n",
       "51-60    276.0\n",
       "Name: days in shelter, dtype: float64"
      ]
     },
     "execution_count": 114,
     "metadata": {},
     "output_type": "execute_result"
    }
   ],
   "source": [
    "# Let's divide the dogs into weight groups and count the mean of days spent in the shelter based on the weight group\n",
    "df['weight_group'] = pd.cut(df['weight in kg'], bins=weight_bins, labels=weight_labels)\n",
    "\n",
    "weight_group_stats = df.groupby('weight_group', observed=True)['days in shelter'].mean().round()\n",
    "weight_group_stats"
   ]
  },
  {
   "cell_type": "code",
   "execution_count": 116,
   "id": "6fe0c8c0-8bdc-40f8-bfc3-fee45f9bdf6c",
   "metadata": {},
   "outputs": [
    {
     "data": {
      "text/plain": [
       "weight_group\n",
       "1-10     277\n",
       "11-20    304\n",
       "21-30     75\n",
       "31-40     18\n",
       "41-50      1\n",
       "51-60      3\n",
       "Name: count, dtype: int64"
      ]
     },
     "execution_count": 116,
     "metadata": {},
     "output_type": "execute_result"
    }
   ],
   "source": [
    "# There seems to be a trend - bigger dogs wait longer for adoption. However, before making such assumptions, let's check the number of dogs in\n",
    "# each category\n",
    "df['weight_group'].value_counts().sort_index()"
   ]
  },
  {
   "cell_type": "code",
   "execution_count": 118,
   "id": "fe924018-f658-41f2-9f44-143ef8aa699c",
   "metadata": {},
   "outputs": [],
   "source": [
    "# Indeed, there are only 4 dogs which weight more than 40kg. Average days spent in the shelter for these weight groups may not be representative. "
   ]
  },
  {
   "cell_type": "code",
   "execution_count": 120,
   "id": "196d0084-2963-4eb4-9d75-f044e0c70d6e",
   "metadata": {},
   "outputs": [],
   "source": [
    "df = df.drop('weight_group', axis=1)"
   ]
  },
  {
   "cell_type": "markdown",
   "id": "338fd100-3fbd-40a3-a5c7-ee4a44b18c50",
   "metadata": {},
   "source": [
    "# Age"
   ]
  },
  {
   "cell_type": "code",
   "execution_count": 123,
   "id": "508abd9c-c888-4b5a-af9a-82e9fb21022e",
   "metadata": {},
   "outputs": [
    {
     "data": {
      "image/png": "[encoded data removed]",
      "text/plain": [
       "<Figure size 800x500 with 1 Axes>"
      ]
     },
     "metadata": {},
     "output_type": "display_data"
    }
   ],
   "source": [
    "# Distribution of dog age\n",
    "plt.figure(figsize=(8, 5))\n",
    "sns.histplot(df['age when adopted'], bins=20, color='steelblue')\n",
    "plt.title('Distribution of dog age')\n",
    "plt.xlabel('Dog age (in yrs)')\n",
    "plt.ylabel('Number of dogs')\n",
    "plt.show()"
   ]
  },
  {
   "cell_type": "code",
   "execution_count": 125,
   "id": "ba414cfc-9ef4-4237-94c5-4645565da7b3",
   "metadata": {},
   "outputs": [],
   "source": [
    "# Most of the dogs in our dataset are rather young - less than 2 years old. There are only a dozen or so senior dogs."
   ]
  },
  {
   "cell_type": "code",
   "execution_count": 127,
   "id": "4dff7f1b-5528-4d2a-aa8e-733a150e2e97",
   "metadata": {},
   "outputs": [
    {
     "data": {
      "image/png": "[encoded data removed]",
      "text/plain": [
       "<Figure size 800x600 with 1 Axes>"
      ]
     },
     "metadata": {},
     "output_type": "display_data"
    }
   ],
   "source": [
    "# Do older dogs wait longer for adoption?\n",
    "plt.figure(figsize=(8, 6))\n",
    "sns.scatterplot(x=df['days in shelter'], y=df['age when adopted'], alpha=0.5)\n",
    "plt.xlabel('Number of days spent in the shelter')\n",
    "plt.ylabel('Dog age (in yrs)')\n",
    "plt.title('Does age of the dog influence on the time spent in the shelter?')\n",
    "plt.show()"
   ]
  },
  {
   "cell_type": "code",
   "execution_count": 129,
   "id": "cc2be620-5952-429d-b01c-5ab6c3e55229",
   "metadata": {},
   "outputs": [],
   "source": [
    "# There is no clear linear relationship – the points are widely scattered, meaning there is no obvious trend showing that older or younger dogs \n",
    "# consistently spend more or less time in the shelter. There might be a slight trend of older dogs staying longer – while younger dogs are found \n",
    "# across all time ranges, older dogs seem more dispersed, including those with extended shelter stays. "
   ]
  },
  {
   "cell_type": "markdown",
   "id": "025a86fb-addc-4bf7-a2c1-215b2269c493",
   "metadata": {},
   "source": [
    "# Gender"
   ]
  },
  {
   "cell_type": "code",
   "execution_count": 132,
   "id": "0d3ac405-bbf0-4f8d-b273-885f53fec3bc",
   "metadata": {},
   "outputs": [
    {
     "data": {
      "image/png": "[encoded data removed]",
      "text/plain": [
       "<Figure size 600x600 with 1 Axes>"
      ]
     },
     "metadata": {},
     "output_type": "display_data"
    }
   ],
   "source": [
    "plt.figure(figsize=(6, 6))\n",
    "sns.boxplot(x=df['male'].map({0: 'Female', 1: 'Male'}), \n",
    "            y=df['days in shelter'], hue=df['male'], legend=False)\n",
    "plt.xlabel('Dogs gender')\n",
    "plt.ylabel('Number of days spent in the shelter')\n",
    "plt.title('Comparison of length of stay in the shelter between male and female dogs')\n",
    "plt.show()"
   ]
  },
  {
   "cell_type": "code",
   "execution_count": 134,
   "id": "bc2f77f5-7317-4b9b-ae29-e624beb2b807",
   "metadata": {},
   "outputs": [
    {
     "name": "stdout",
     "output_type": "stream",
     "text": [
      "male\n",
      "0    65.073469\n",
      "1    88.658199\n",
      "Name: days in shelter, dtype: float64\n"
     ]
    }
   ],
   "source": [
    "# average days in the shelter for both genders\n",
    "print(df.groupby('male')['days in shelter'].mean())\n"
   ]
  },
  {
   "cell_type": "code",
   "execution_count": 136,
   "id": "1061aa8c-72ff-4e2c-ba36-b3697cff5428",
   "metadata": {},
   "outputs": [
    {
     "data": {
      "text/plain": [
       "male\n",
       "0    245\n",
       "1    433\n",
       "Name: count, dtype: int64"
      ]
     },
     "execution_count": 136,
     "metadata": {},
     "output_type": "execute_result"
    }
   ],
   "source": [
    "df['male'].value_counts().sort_index()"
   ]
  },
  {
   "cell_type": "code",
   "execution_count": 138,
   "id": "a9389628-0b9d-43c8-aa45-0e374fb57bb0",
   "metadata": {},
   "outputs": [
    {
     "name": "stdout",
     "output_type": "stream",
     "text": [
      "T-stat: 3.87, p-value: 0.0001\n"
     ]
    }
   ],
   "source": [
    "# It seems that male dogs wait longer for adoption than female dogs, the difference is about 23 days. However, there are more than two times more\n",
    "# male dogs in the dataset, so let's check if the difference between groups is significant.\n",
    "male_dogs = df[df['male'] == 1]['days in shelter']\n",
    "female_dogs = df[df['male'] == 0]['days in shelter']\n",
    "\n",
    "# t-student test\n",
    "t_stat, p_value = ttest_ind(male_dogs, female_dogs, equal_var=False) \n",
    "\n",
    "# Result\n",
    "print(f\"T-stat: {t_stat:.2f}, p-value: {p_value:.4f}\")"
   ]
  },
  {
   "cell_type": "code",
   "execution_count": 140,
   "id": "2e3bb4bf-cb99-479d-9dc8-2ed4dbbfa611",
   "metadata": {},
   "outputs": [],
   "source": [
    "# p-value is less than 0.05 meaning that the difference is statistically significant and male dogs wait longer for adoption."
   ]
  },
  {
   "cell_type": "markdown",
   "id": "22afae32-5d3e-421e-8bb5-aaf8df005a50",
   "metadata": {},
   "source": [
    "# Breed"
   ]
  },
  {
   "cell_type": "code",
   "execution_count": 143,
   "id": "6d807879-ead5-48b5-bcc9-c9628452a0a4",
   "metadata": {},
   "outputs": [
    {
     "data": {
      "image/png": "[encoded data removed]",
      "text/plain": [
       "<Figure size 800x600 with 1 Axes>"
      ]
     },
     "metadata": {},
     "output_type": "display_data"
    }
   ],
   "source": [
    "plt.figure(figsize=(8, 6))\n",
    "sns.boxplot(x=df['purebred'], y=df['days in shelter'], hue=df['purebred'], legend = False)\n",
    "plt.xlabel('Is the dog purebred?')\n",
    "plt.ylabel('Number of days spent in the shelter')\n",
    "plt.title('Comparison of length of stay in the shelter between mix-breed and purebred dogs')\n",
    "plt.xticks([0, 1], ['Mix-breed', 'Purebred'])\n",
    "plt.show()"
   ]
  },
  {
   "cell_type": "code",
   "execution_count": 145,
   "id": "d67f4c86-e0ba-41f1-b508-0fc3a73f4b90",
   "metadata": {},
   "outputs": [
    {
     "name": "stdout",
     "output_type": "stream",
     "text": [
      "purebred\n",
      "0    81.667747\n",
      "1    64.639344\n",
      "Name: days in shelter, dtype: float64\n"
     ]
    }
   ],
   "source": [
    "purebred_stats = df.groupby('purebred')['days in shelter'].mean()\n",
    "print(purebred_stats)"
   ]
  },
  {
   "cell_type": "code",
   "execution_count": 147,
   "id": "f9cc1e7c-cf8e-4e2f-bc8e-ff9bca502037",
   "metadata": {},
   "outputs": [
    {
     "data": {
      "text/plain": [
       "purebred\n",
       "0    617\n",
       "1     61\n",
       "Name: count, dtype: int64"
      ]
     },
     "execution_count": 147,
     "metadata": {},
     "output_type": "execute_result"
    }
   ],
   "source": [
    "df['purebred'].value_counts().sort_index()"
   ]
  },
  {
   "cell_type": "code",
   "execution_count": 149,
   "id": "34c1cda0-4717-42d3-8000-19d197316c62",
   "metadata": {},
   "outputs": [],
   "source": [
    "# It seems that mix-breed dogs wait longer for adoption than purebred ones, the difference is about 17 days. Though, the number of dogs in each category\n",
    "# differs a lot. Let's check if the difference between these groups is significant."
   ]
  },
  {
   "cell_type": "code",
   "execution_count": 151,
   "id": "b98f3b1e-589b-4fab-a5ee-ca5b49fc1bfd",
   "metadata": {},
   "outputs": [
    {
     "name": "stdout",
     "output_type": "stream",
     "text": [
      "T-stat: -1.75, p-value: 0.0844\n"
     ]
    }
   ],
   "source": [
    "purebred_dogs = df[df['purebred'] == 1]['days in shelter']\n",
    "mix_dogs = df[df['purebred'] == 0]['days in shelter']\n",
    "\n",
    "t_stat, p_value = ttest_ind(purebred_dogs, mix_dogs, equal_var=False)\n",
    "print(f'T-stat: {t_stat:.2f}, p-value: {p_value:.4f}')\n"
   ]
  },
  {
   "cell_type": "code",
   "execution_count": 3775,
   "id": "39ef23ec-6dab-4b43-b6a6-2d4a6e0f8bcd",
   "metadata": {},
   "outputs": [],
   "source": [
    "# p-value > 0.05 indicates that the difference is not statistically significant, meaning that mix-breed dogs don't wait longer for adoption. "
   ]
  },
  {
   "cell_type": "markdown",
   "id": "fc9aecc4-89bf-4021-b9f3-e48ebe4227d4",
   "metadata": {},
   "source": [
    " # Linear regression - age, weight"
   ]
  },
  {
   "cell_type": "code",
   "execution_count": 153,
   "id": "aeaa597f-2679-481c-8f1e-d0293068b314",
   "metadata": {
    "scrolled": true
   },
   "outputs": [
    {
     "name": "stdout",
     "output_type": "stream",
     "text": [
      "                            OLS Regression Results                            \n",
      "==============================================================================\n",
      "Dep. Variable:        days in shelter   R-squared:                       0.239\n",
      "Model:                            OLS   Adj. R-squared:                  0.237\n",
      "Method:                 Least Squares   F-statistic:                     105.9\n",
      "Date:                Wed, 07 May 2025   Prob (F-statistic):           1.00e-40\n",
      "Time:                        13:16:31   Log-Likelihood:                -3857.0\n",
      "No. Observations:                 678   AIC:                             7720.\n",
      "Df Residuals:                     675   BIC:                             7734.\n",
      "Df Model:                           2                                         \n",
      "Covariance Type:            nonrobust                                         \n",
      "====================================================================================\n",
      "                       coef    std err          t      P>|t|      [0.025      0.975]\n",
      "------------------------------------------------------------------------------------\n",
      "const               -1.8004      6.267     -0.287      0.774     -14.106      10.505\n",
      "age when adopted     6.4225      1.099      5.845      0.000       4.265       8.580\n",
      "weight in kg         4.5972      0.393     11.708      0.000       3.826       5.368\n",
      "==============================================================================\n",
      "Omnibus:                      408.443   Durbin-Watson:                   1.895\n",
      "Prob(Omnibus):                  0.000   Jarque-Bera (JB):             3488.725\n",
      "Skew:                           2.643   Prob(JB):                         0.00\n",
      "Kurtosis:                      12.775   Cond. No.                         35.7\n",
      "==============================================================================\n",
      "\n",
      "Notes:\n",
      "[1] Standard Errors assume that the covariance matrix of the errors is correctly specified.\n"
     ]
    }
   ],
   "source": [
    "# Preparing the data\n",
    "X = df[['age when adopted', 'weight in kg']]  # Independent variables\n",
    "X = sm.add_constant(X)  # Adding and intercept\n",
    "y = df['days in shelter']  # Dependent variable\n",
    "\n",
    "# Linear regression model\n",
    "model = sm.OLS(y, X).fit()\n",
    "\n",
    "# Model results\n",
    "print(model.summary())"
   ]
  },
  {
   "cell_type": "markdown",
   "id": "90535c86-2401-4f1d-a5b7-35726d9ef725",
   "metadata": {},
   "source": [
    "R-squared = 0.239 means that the model explains 23,9% of variation in the number of days spent in the shelter. This is not much. \n",
    "The other 76,1% results from other factors that are not included in the model.\n",
    "Value of Prob(F-statistic) is less then 0.01 meaning that one of the predictors has a significant effect on the dependent variable.\n",
    "Each additional year of a dog’s age means an increase of more than 6 days spent in a shelter.\n",
    "Each additional kilogram of a dog’s weight means an increase of more than 4 days spent in a shelter."
   ]
  },
  {
   "cell_type": "code",
   "execution_count": 157,
   "id": "6680f6fd-16d2-4040-8ffd-b2908cabb789",
   "metadata": {},
   "outputs": [],
   "source": [
    "# Let's visualize our model."
   ]
  },
  {
   "cell_type": "code",
   "execution_count": 159,
   "id": "729a1da4-f14f-4d6d-abc2-c6f297baff00",
   "metadata": {},
   "outputs": [
    {
     "data": {
      "image/png": "[encoded data removed]",
      "text/plain": [
       "<Figure size 800x600 with 1 Axes>"
      ]
     },
     "metadata": {},
     "output_type": "display_data"
    }
   ],
   "source": [
    "# Counting predicted values\n",
    "df['predicted_days'] = model.predict(X)\n",
    "\n",
    "# Plot: Actual vs predicted data\n",
    "plt.figure(figsize=(8,6))\n",
    "plt.scatter(df['predicted_days'], df['days in shelter'], alpha=0.5)\n",
    "plt.plot([df['predicted_days'].min(), df['predicted_days'].max()], \n",
    "         [df['predicted_days'].min(), df['predicted_days'].max()], 'r--', lw=2)\n",
    "plt.xlabel('Predicted number of days')\n",
    "plt.ylabel('Actual number of days')\n",
    "plt.title('Actual vs predicted values')\n",
    "plt.show()"
   ]
  },
  {
   "cell_type": "code",
   "execution_count": 161,
   "id": "77858cf9-8f6f-461d-bc22-c962c78e7bab",
   "metadata": {},
   "outputs": [],
   "source": [
    "df = df.drop('predicted_days', axis=1)"
   ]
  },
  {
   "cell_type": "markdown",
   "id": "b3bb96cd-5562-4bd8-a2f4-da200d0f05ba",
   "metadata": {},
   "source": [
    "# Linear Regression with other variables"
   ]
  },
  {
   "cell_type": "code",
   "execution_count": 164,
   "id": "f8539dea-6cf0-40db-a7d8-5184da076463",
   "metadata": {},
   "outputs": [
    {
     "name": "stdout",
     "output_type": "stream",
     "text": [
      "                            OLS Regression Results                            \n",
      "==============================================================================\n",
      "Dep. Variable:        days in shelter   R-squared:                       0.270\n",
      "Model:                            OLS   Adj. R-squared:                  0.264\n",
      "Method:                 Least Squares   F-statistic:                     49.60\n",
      "Date:                Wed, 07 May 2025   Prob (F-statistic):           9.64e-44\n",
      "Time:                        13:17:13   Log-Likelihood:                -3843.0\n",
      "No. Observations:                 678   AIC:                             7698.\n",
      "Df Residuals:                     672   BIC:                             7725.\n",
      "Df Model:                           5                                         \n",
      "Covariance Type:            nonrobust                                         \n",
      "====================================================================================\n",
      "                       coef    std err          t      P>|t|      [0.025      0.975]\n",
      "------------------------------------------------------------------------------------\n",
      "const              -14.6212      7.230     -2.022      0.044     -28.818      -0.424\n",
      "age when adopted     6.6507      1.095      6.071      0.000       4.500       8.802\n",
      "weight in kg         4.6332      0.387     11.962      0.000       3.873       5.394\n",
      "black fur           15.9771      5.465      2.924      0.004       5.247      26.707\n",
      "purebred           -32.5124      9.658     -3.366      0.001     -51.476     -13.549\n",
      "male                10.9478      5.711      1.917      0.056      -0.266      22.162\n",
      "==============================================================================\n",
      "Omnibus:                      407.795   Durbin-Watson:                   1.884\n",
      "Prob(Omnibus):                  0.000   Jarque-Bera (JB):             3518.467\n",
      "Skew:                           2.633   Prob(JB):                         0.00\n",
      "Kurtosis:                      12.840   Cond. No.                         56.7\n",
      "==============================================================================\n",
      "\n",
      "Notes:\n",
      "[1] Standard Errors assume that the covariance matrix of the errors is correctly specified.\n"
     ]
    }
   ],
   "source": [
    "y = df['days in shelter']\n",
    "\n",
    "# Matrix of independent variables – removing some of the variables, including the dependent one\n",
    "X = df.drop(['days in shelter', 'name', 'arrival date', 'adoption date', 'returned', 'date of return', \n",
    "             'adoption year', 'adoption month'], axis=1)\n",
    "X = sm.add_constant(X)\n",
    "model = sm.OLS(y, X).fit()\n",
    "\n",
    "print(model.summary())"
   ]
  },
  {
   "cell_type": "markdown",
   "id": "cb56051d-ec4e-4ae5-99ab-9636163edec2",
   "metadata": {},
   "source": [
    "R-squared equals 0.27, meaning that the model explains only 27% of the variance in the number of days spent in the shelter. This suggests that the independent variables included in the model do not capture all the factors affecting shelter duration.\n",
    "Prob (F-Statistic) =  9.64e-44 suggests that the overall regression model is statistically significant, meaning at least one of the predictors contributes to explaining the variation in days spent in the shelter.\n",
    "The P>|t| value for each of the variable beside \"male\" is lower than 0.05 meaning that they are statistically significant. The male variable has a p-value of 0.056, which is slightly above 0.05, making it marginally significant, but not strong enough to confidently say it has an effect.\n",
    "The results of Jarque-Bera test, value of skewness and kurtosis suggest that the data is not normally distributed and has high skewness, meaning the\n",
    "model may not be the best fit."
   ]
  },
  {
   "cell_type": "code",
   "execution_count": null,
   "id": "541dff93-4911-40e7-8aa3-d96f91823a86",
   "metadata": {},
   "outputs": [],
   "source": []
  }
 ],
 "metadata": {
  "kernelspec": {
   "display_name": "Python 3 (ipykernel)",
   "language": "python",
   "name": "python3"
  },
  "language_info": {
   "codemirror_mode": {
    "name": "ipython",
    "version": 3
   },
   "file_extension": ".py",
   "mimetype": "text/x-python",
   "name": "python",
   "nbconvert_exporter": "python",
   "pygments_lexer": "ipython3",
   "version": "3.12.7"
  }
 },
 "nbformat": 4,
 "nbformat_minor": 5
}
